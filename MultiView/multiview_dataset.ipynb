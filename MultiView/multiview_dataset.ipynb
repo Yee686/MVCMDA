{
 "cells": [
  {
   "cell_type": "code",
   "execution_count": 1,
   "metadata": {},
   "outputs": [],
   "source": [
    "import torch\n",
    "import numpy as np"
   ]
  },
  {
   "cell_type": "code",
   "execution_count": 2,
   "metadata": {},
   "outputs": [],
   "source": [
    "old_dataset = torch.load('/mnt/yzy/NIMCGCN/new_dataset.pt')"
   ]
  },
  {
   "cell_type": "code",
   "execution_count": 3,
   "metadata": {},
   "outputs": [
    {
     "name": "stdout",
     "output_type": "stream",
     "text": [
      "torch.Size([2, 948255])\n"
     ]
    },
    {
     "data": {
      "text/plain": [
       "tensor([[   0,    0,    0,  ..., 1042, 1042, 1042],\n",
       "        [   0,    1,    2,  ..., 1040, 1041, 1042]])"
      ]
     },
     "execution_count": 3,
     "metadata": {},
     "output_type": "execute_result"
    }
   ],
   "source": [
    "def get_edge(matrix):\n",
    "    edge_x = []\n",
    "    edge_y = []\n",
    "    for i in range(0,matrix.shape[0]):\n",
    "        for j in range(0,matrix.shape[1]):\n",
    "            if(matrix[i][j] != 0):\n",
    "                edge_x.append(i)\n",
    "                edge_y.append(j)\n",
    "    \n",
    "    edge = torch.tensor([edge_x,edge_y])\n",
    "    print(edge.shape)\n",
    "    return edge\n",
    "get_edge(old_dataset['mm']['data'])"
   ]
  },
  {
   "cell_type": "code",
   "execution_count": 4,
   "metadata": {},
   "outputs": [
    {
     "name": "stdout",
     "output_type": "stream",
     "text": [
      "torch.Size([2, 948255])\n"
     ]
    }
   ],
   "source": [
    "print(old_dataset['mm']['edge_index'].shape)"
   ]
  },
  {
   "cell_type": "code",
   "execution_count": 5,
   "metadata": {},
   "outputs": [
    {
     "name": "stdout",
     "output_type": "stream",
     "text": [
      "dict_keys(['md_p', 'md_true', 'mm', 'dd', 'fold_one_index', 'fold_zero_index'])\n",
      "torch.Size([1043, 2166])\n",
      "torch.Size([1043, 2166])\n",
      "torch.Size([1043, 1043])\n",
      "torch.Size([2, 948255])\n",
      "torch.Size([2166, 2166])\n",
      "torch.Size([2, 4670244])\n",
      "torch.Size([10, 2, 143])\n",
      "torch.Size([10, 2, 225771])\n",
      "1087849 4691556\n"
     ]
    }
   ],
   "source": [
    "old_dataset = torch.load(\"/mnt/yzy/NIMCGCN/new_dataset.pt\")\n",
    "print(old_dataset.keys())\n",
    "print(old_dataset['md_p'].shape)\n",
    "print(old_dataset['md_true'].shape)\n",
    "print(old_dataset['mm']['data'].shape)\n",
    "print(old_dataset['mm']['edge_index'].shape)\n",
    "print(old_dataset['dd']['data'].shape)\n",
    "print(old_dataset['dd']['edge_index'].shape)\n",
    "print(old_dataset['fold_one_index'].shape)\n",
    "print(old_dataset['fold_zero_index'].shape)\n",
    "print(1043*1043,2166*2166)"
   ]
  },
  {
   "cell_type": "code",
   "execution_count": 6,
   "metadata": {},
   "outputs": [
    {
     "name": "stdout",
     "output_type": "stream",
     "text": [
      "(2166, 2166)\n",
      "(1043, 1043)\n"
     ]
    }
   ],
   "source": [
    "drug_mol2vec_sim = np.loadtxt(\"/mnt/yzy/NIMCGCN/MultiView/drug_mol2vec_sim.csv\",delimiter=',')\n",
    "rna_seq_sim = np.loadtxt(\"/mnt/yzy/NIMCGCN/MultiView/rna_seq_sim.csv\",delimiter=',')\n",
    "\n",
    "print(drug_mol2vec_sim.shape)\n",
    "print(rna_seq_sim.shape)"
   ]
  },
  {
   "cell_type": "code",
   "execution_count": 7,
   "metadata": {},
   "outputs": [
    {
     "name": "stdout",
     "output_type": "stream",
     "text": [
      "torch.Size([2, 4691554])\n",
      "torch.Size([2, 4691554])\n",
      "tensor([   0,    0,    0,  ..., 2165, 2165, 2165])\n",
      "torch.Size([2166, 2166])\n",
      "tensor([0.5190, 0.4533, 0.4735,  ..., 0.3160, 0.4666, 0.6221],\n",
      "       dtype=torch.float64)\n",
      "torch.Size([2, 659344])\n",
      "torch.Size([2, 659344])\n",
      "tensor([   2,    2,    2,  ..., 1041, 1041, 1041])\n",
      "torch.Size([1043, 1043])\n",
      "tensor([0., 0., 0.,  ..., 0., 0., 0.], dtype=torch.float64)\n"
     ]
    }
   ],
   "source": [
    "drug_mol2vec_sim_edge = get_edge(drug_mol2vec_sim)\n",
    "drug_mol2vec_sim_data = torch.tensor(drug_mol2vec_sim)\n",
    "\n",
    "print(drug_mol2vec_sim_edge.shape)\n",
    "print(drug_mol2vec_sim_edge[0])\n",
    "print(drug_mol2vec_sim_data.shape)\n",
    "print(drug_mol2vec_sim_data[0])\n",
    "\n",
    "\n",
    "rna_seq_sim_edge = get_edge(rna_seq_sim)\n",
    "rna_seq_sim_data = torch.tensor(rna_seq_sim)\n",
    "\n",
    "print(rna_seq_sim_edge.shape)\n",
    "print(rna_seq_sim_edge[0])\n",
    "print(rna_seq_sim_data.shape)\n",
    "print(rna_seq_sim_data[0])"
   ]
  },
  {
   "cell_type": "code",
   "execution_count": 13,
   "metadata": {},
   "outputs": [],
   "source": [
    "multiview_dataset = {\n",
    "    'md':old_dataset['md_p'].double(),\n",
    "    'mm_func':{\n",
    "        'attr':old_dataset['mm']['data'].double(),\n",
    "        'edge':old_dataset['mm']['edge_index']\n",
    "    },\n",
    "    'mm_seq':{\n",
    "        'attr':rna_seq_sim_data.double(),\n",
    "        'edge':rna_seq_sim_edge\n",
    "    },\n",
    "    'dd_seq':{\n",
    "        'attr':old_dataset['dd']['data'].double(),\n",
    "        'edge':old_dataset['dd']['edge_index']\n",
    "    },\n",
    "    'dd_mol':{\n",
    "        'attr':drug_mol2vec_sim_data.double(),\n",
    "        'edge':drug_mol2vec_sim_edge\n",
    "    },\n",
    "    'fold_one_index':old_dataset['fold_one_index'],\n",
    "    'fold_zero_index':old_dataset['fold_zero_index']\n",
    "}\n",
    "\n",
    "torch.save(multiview_dataset,\"/mnt/yzy/NIMCGCN/MultiView/multiview_dataset.pt\")"
   ]
  },
  {
   "cell_type": "code",
   "execution_count": 2,
   "metadata": {},
   "outputs": [
    {
     "name": "stdout",
     "output_type": "stream",
     "text": [
      "md torch.Size([1043, 2166]) <class 'torch.Tensor'> torch.float64\n",
      "mm_func torch.Size([1043, 1043]) <class 'torch.Tensor'> torch.float64\n",
      "mm_func torch.Size([2, 948255]) <class 'torch.Tensor'> torch.int64\n",
      "mm_seq torch.Size([1043, 1043]) <class 'torch.Tensor'> torch.float64\n",
      "mm_seq torch.Size([2, 659344]) <class 'torch.Tensor'> torch.int64\n",
      "dd_seq torch.Size([2166, 2166]) <class 'torch.Tensor'> torch.float64\n",
      "dd_seq torch.Size([2, 4670244]) <class 'torch.Tensor'> torch.int64\n",
      "dd_mol torch.Size([2166, 2166]) <class 'torch.Tensor'> torch.float64\n",
      "dd_mol torch.Size([2, 4691554]) <class 'torch.Tensor'> torch.int64\n",
      "fold_one_index torch.Size([10, 2, 143]) <class 'torch.Tensor'> torch.int64\n",
      "fold_zero_index torch.Size([10, 2, 225771]) <class 'torch.Tensor'> torch.int64\n"
     ]
    }
   ],
   "source": [
    "dataset = torch.load(\"/mnt/yzy/NIMCGCN/MultiView/multiview_dataset.pt\")\n",
    "\n",
    "for i in dataset.keys():\n",
    "    if(i == 'md' or i == 'fold_one_index' or i == 'fold_zero_index'):\n",
    "        print(i,dataset[i].shape, type(dataset[i]),dataset[i].dtype)\n",
    "    else:\n",
    "        print(i,dataset[i]['attr'].shape,type(dataset[i]['attr']),dataset[i]['attr'].dtype)\n",
    "        print(i,dataset[i]['edge'].shape,type(dataset[i]['edge']),dataset[i]['edge'].dtype)"
   ]
  },
  {
   "cell_type": "code",
   "execution_count": 3,
   "metadata": {},
   "outputs": [],
   "source": [
    "multiview_dataset = {\n",
    "    'md':dataset['md'].float(),\n",
    "    'mm_func':{\n",
    "        'attr':dataset['mm_func']['attr'].float(),\n",
    "        'edge':dataset['mm_func']['edge']\n",
    "    },\n",
    "    'mm_seq':{\n",
    "        'attr':dataset['mm_seq']['attr'].float(),\n",
    "        'edge':dataset['mm_seq']['edge']\n",
    "    },\n",
    "    'dd_seq':{\n",
    "        'attr':dataset['dd_seq']['attr'].float(),\n",
    "        'edge':dataset['dd_seq']['edge']\n",
    "    },\n",
    "    'dd_mol':{\n",
    "        'attr':dataset['dd_mol']['attr'].float(),\n",
    "        'edge':dataset['dd_mol']['edge']\n",
    "    },\n",
    "    'fold_one_index':dataset['fold_one_index'],\n",
    "    'fold_zero_index':dataset['fold_zero_index']\n",
    "}"
   ]
  },
  {
   "cell_type": "code",
   "execution_count": 5,
   "metadata": {},
   "outputs": [
    {
     "name": "stdout",
     "output_type": "stream",
     "text": [
      "md torch.Size([1043, 2166]) <class 'torch.Tensor'> torch.float32\n",
      "mm_func torch.Size([1043, 1043]) <class 'torch.Tensor'> torch.float32\n",
      "mm_func torch.Size([2, 948255]) <class 'torch.Tensor'> torch.int64\n",
      "mm_seq torch.Size([1043, 1043]) <class 'torch.Tensor'> torch.float32\n",
      "mm_seq torch.Size([2, 659344]) <class 'torch.Tensor'> torch.int64\n",
      "dd_seq torch.Size([2166, 2166]) <class 'torch.Tensor'> torch.float32\n",
      "dd_seq torch.Size([2, 4670244]) <class 'torch.Tensor'> torch.int64\n",
      "dd_mol torch.Size([2166, 2166]) <class 'torch.Tensor'> torch.float32\n",
      "dd_mol torch.Size([2, 4691554]) <class 'torch.Tensor'> torch.int64\n",
      "fold_one_index torch.Size([10, 2, 143]) <class 'torch.Tensor'> torch.int64\n",
      "fold_zero_index torch.Size([10, 2, 225771]) <class 'torch.Tensor'> torch.int64\n"
     ]
    }
   ],
   "source": [
    "dataset = multiview_dataset\n",
    "for i in dataset.keys():\n",
    "    if(i == 'md' or i == 'fold_one_index' or i == 'fold_zero_index'):\n",
    "        print(i,dataset[i].shape, type(dataset[i]),dataset[i].dtype)\n",
    "    else:\n",
    "        print(i,dataset[i]['attr'].shape,type(dataset[i]['attr']),dataset[i]['attr'].dtype)\n",
    "        print(i,dataset[i]['edge'].shape,type(dataset[i]['edge']),dataset[i]['edge'].dtype)\n",
    "\n",
    "torch.save(multiview_dataset,\"/mnt/yzy/NIMCGCN/MultiView/multiview_dataset.pt\")"
   ]
  }
 ],
 "metadata": {
  "kernelspec": {
   "display_name": "torch18",
   "language": "python",
   "name": "python3"
  },
  "language_info": {
   "codemirror_mode": {
    "name": "ipython",
    "version": 3
   },
   "file_extension": ".py",
   "mimetype": "text/x-python",
   "name": "python",
   "nbconvert_exporter": "python",
   "pygments_lexer": "ipython3",
   "version": "3.8.13"
  },
  "orig_nbformat": 4
 },
 "nbformat": 4,
 "nbformat_minor": 2
}
