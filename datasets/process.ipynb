{
 "cells": [
  {
   "cell_type": "code",
   "execution_count": 23,
   "metadata": {},
   "outputs": [],
   "source": [
    "import csv\n",
    "import pandas as pd\n",
    "import numpy as np"
   ]
  },
  {
   "cell_type": "code",
   "execution_count": 2,
   "metadata": {},
   "outputs": [
    {
     "name": "stdout",
     "output_type": "stream",
     "text": [
      "/mnt/yzy/NIMCGCN/datasets\n"
     ]
    }
   ],
   "source": [
    "! pwd"
   ]
  },
  {
   "cell_type": "code",
   "execution_count": 3,
   "metadata": {},
   "outputs": [],
   "source": [
    "dr = pd.read_csv(\"Curated_DRmiRNA.txt\",sep='\\t',header=0)\n",
    "md = pd.read_csv(\"data(MDA108)/mirna_drug_1043_2166.txt\",sep=',',header=0, index_col = 0)"
   ]
  },
  {
   "cell_type": "code",
   "execution_count": 4,
   "metadata": {},
   "outputs": [
    {
     "name": "stdout",
     "output_type": "stream",
     "text": [
      "Index(['15', '119', '137', '176', '187', '190', '241', '243', '244', '247',\n",
      "       ...\n",
      "       '118987133', '131704172', '131704299', '131704314', '131704315',\n",
      "       '131704316', '131704319', '131704321', '131704328', '131704329'],\n",
      "      dtype='object', length=2166)\n",
      "Index(['hsa-let-7', 'hsa-let-7a', 'hsa-let-7a-1', 'hsa-let-7a-2',\n",
      "       'hsa-let-7a-3', 'hsa-let-7b', 'hsa-let-7c', 'hsa-let-7d', 'hsa-let-7e',\n",
      "       'hsa-let-7f',\n",
      "       ...\n",
      "       'hsa-mir-944', 'hsa-mir-95', 'hsa-mir-9500', 'hsa-mir-9501',\n",
      "       'hsa-mir-96', 'hsa-mir-98', 'hsa-mir-99', 'hsa-mir-99a', 'hsa-mir-99b',\n",
      "       'hsa-mir-9a'],\n",
      "      dtype='object', length=1043)\n"
     ]
    }
   ],
   "source": [
    "print(md.columns)\n",
    "print(md.index)"
   ]
  },
  {
   "cell_type": "code",
   "execution_count": 5,
   "metadata": {},
   "outputs": [
    {
     "name": "stdout",
     "output_type": "stream",
     "text": [
      "Index(['Pubmed', 'miR_Name', 'miRBase_name', 'miR_ID', 'Drug', 'CID',\n",
      "       'Material_1', 'Material_2', 'Material_3', 'Material_4', 'Condition',\n",
      "       'Experiment', 'Level', 'Effect', 'Target', 'Regulation', 'Year',\n",
      "       'Reference', 'Support'],\n",
      "      dtype='object')\n",
      "RangeIndex(start=0, stop=5661, step=1)\n"
     ]
    }
   ],
   "source": [
    "print(dr.columns)\n",
    "print(dr.index)"
   ]
  },
  {
   "cell_type": "code",
   "execution_count": 6,
   "metadata": {},
   "outputs": [
    {
     "data": {
      "text/plain": [
       "Pubmed                                                   16762633\n",
       "miR_Name                                                   miR-21\n",
       "miRBase_name                                           hsa-mir-21\n",
       "miR_ID                                                  MI0000077\n",
       "Drug                                                  Gemcitabine\n",
       "CID                                                         60750\n",
       "Material_1                          KMCH-1, Mz-ChA-1, TFK and H69\n",
       "Material_2                                                      -\n",
       "Material_3                                                      -\n",
       "Material_4                                                      -\n",
       "Condition                                      cholangiocarcinoma\n",
       "Experiment                                               in vitro\n",
       "Level                                                         Low\n",
       "Effect                                                  Resistant\n",
       "Target                                                       PTEN\n",
       "Regulation                                                      -\n",
       "Year                                                         2006\n",
       "Reference       Involvement of human micro-RNA in growth and r...\n",
       "Support         Inhibition of miR-21 and miR-200b increased se...\n",
       "Name: 1, dtype: object"
      ]
     },
     "execution_count": 6,
     "metadata": {},
     "output_type": "execute_result"
    }
   ],
   "source": [
    "dr.loc[1]"
   ]
  },
  {
   "cell_type": "code",
   "execution_count": 7,
   "metadata": {},
   "outputs": [
    {
     "data": {
      "text/html": [
       "<div>\n",
       "<style scoped>\n",
       "    .dataframe tbody tr th:only-of-type {\n",
       "        vertical-align: middle;\n",
       "    }\n",
       "\n",
       "    .dataframe tbody tr th {\n",
       "        vertical-align: top;\n",
       "    }\n",
       "\n",
       "    .dataframe thead th {\n",
       "        text-align: right;\n",
       "    }\n",
       "</style>\n",
       "<table border=\"1\" class=\"dataframe\">\n",
       "  <thead>\n",
       "    <tr style=\"text-align: right;\">\n",
       "      <th></th>\n",
       "      <th>miRBase_name</th>\n",
       "      <th>CID</th>\n",
       "      <th>Effect</th>\n",
       "    </tr>\n",
       "  </thead>\n",
       "  <tbody>\n",
       "    <tr>\n",
       "      <th>0</th>\n",
       "      <td>hsa-mir-200b</td>\n",
       "      <td>60750</td>\n",
       "      <td>Resistant</td>\n",
       "    </tr>\n",
       "    <tr>\n",
       "      <th>1</th>\n",
       "      <td>hsa-mir-21</td>\n",
       "      <td>60750</td>\n",
       "      <td>Resistant</td>\n",
       "    </tr>\n",
       "    <tr>\n",
       "      <th>2</th>\n",
       "      <td>hsa-mir-24-1</td>\n",
       "      <td>126941</td>\n",
       "      <td>association</td>\n",
       "    </tr>\n",
       "    <tr>\n",
       "      <th>3</th>\n",
       "      <td>hsa-mir-214</td>\n",
       "      <td>2767</td>\n",
       "      <td>Resistant</td>\n",
       "    </tr>\n",
       "    <tr>\n",
       "      <th>4</th>\n",
       "      <td>hsa-mir-100</td>\n",
       "      <td>-</td>\n",
       "      <td>Resistant</td>\n",
       "    </tr>\n",
       "    <tr>\n",
       "      <th>...</th>\n",
       "      <td>...</td>\n",
       "      <td>...</td>\n",
       "      <td>...</td>\n",
       "    </tr>\n",
       "    <tr>\n",
       "      <th>5656</th>\n",
       "      <td>hsa-mir-155</td>\n",
       "      <td>2733526</td>\n",
       "      <td>Resistant</td>\n",
       "    </tr>\n",
       "    <tr>\n",
       "      <th>5657</th>\n",
       "      <td>hsa-mir-224</td>\n",
       "      <td>31703</td>\n",
       "      <td>Sensitive</td>\n",
       "    </tr>\n",
       "    <tr>\n",
       "      <th>5658</th>\n",
       "      <td>hsa-mir-542</td>\n",
       "      <td>31703</td>\n",
       "      <td>Sensitive</td>\n",
       "    </tr>\n",
       "    <tr>\n",
       "      <th>5659</th>\n",
       "      <td>hsa-mir-101-1</td>\n",
       "      <td>31703</td>\n",
       "      <td>Sensitive</td>\n",
       "    </tr>\n",
       "    <tr>\n",
       "      <th>5660</th>\n",
       "      <td>hsa-mir-16-1</td>\n",
       "      <td>5394</td>\n",
       "      <td>Resistant</td>\n",
       "    </tr>\n",
       "  </tbody>\n",
       "</table>\n",
       "<p>5661 rows × 3 columns</p>\n",
       "</div>"
      ],
      "text/plain": [
       "       miRBase_name      CID       Effect\n",
       "0      hsa-mir-200b    60750    Resistant\n",
       "1        hsa-mir-21    60750    Resistant\n",
       "2      hsa-mir-24-1   126941  association\n",
       "3       hsa-mir-214     2767    Resistant\n",
       "4       hsa-mir-100        -    Resistant\n",
       "...             ...      ...          ...\n",
       "5656    hsa-mir-155  2733526    Resistant\n",
       "5657    hsa-mir-224    31703    Sensitive\n",
       "5658    hsa-mir-542    31703    Sensitive\n",
       "5659  hsa-mir-101-1    31703    Sensitive\n",
       "5660   hsa-mir-16-1     5394    Resistant\n",
       "\n",
       "[5661 rows x 3 columns]"
      ]
     },
     "execution_count": 7,
     "metadata": {},
     "output_type": "execute_result"
    }
   ],
   "source": [
    "drn = dr.loc[:,[\"miRBase_name\",\"CID\",\"Effect\"]]\n",
    "drn"
   ]
  },
  {
   "cell_type": "code",
   "execution_count": 8,
   "metadata": {},
   "outputs": [
    {
     "data": {
      "text/html": [
       "<div>\n",
       "<style scoped>\n",
       "    .dataframe tbody tr th:only-of-type {\n",
       "        vertical-align: middle;\n",
       "    }\n",
       "\n",
       "    .dataframe tbody tr th {\n",
       "        vertical-align: top;\n",
       "    }\n",
       "\n",
       "    .dataframe thead th {\n",
       "        text-align: right;\n",
       "    }\n",
       "</style>\n",
       "<table border=\"1\" class=\"dataframe\">\n",
       "  <thead>\n",
       "    <tr style=\"text-align: right;\">\n",
       "      <th></th>\n",
       "      <th>miRBase_name</th>\n",
       "      <th>CID</th>\n",
       "      <th>Effect</th>\n",
       "    </tr>\n",
       "  </thead>\n",
       "  <tbody>\n",
       "    <tr>\n",
       "      <th>2</th>\n",
       "      <td>hsa-mir-24-1</td>\n",
       "      <td>126941</td>\n",
       "      <td>association</td>\n",
       "    </tr>\n",
       "    <tr>\n",
       "      <th>953</th>\n",
       "      <td>hsa-mir-106b</td>\n",
       "      <td>2767</td>\n",
       "      <td>Associated</td>\n",
       "    </tr>\n",
       "    <tr>\n",
       "      <th>1554</th>\n",
       "      <td>hsa-mir-221</td>\n",
       "      <td>-</td>\n",
       "      <td>Associated</td>\n",
       "    </tr>\n",
       "    <tr>\n",
       "      <th>1560</th>\n",
       "      <td>hsa-mir-200b</td>\n",
       "      <td>2767</td>\n",
       "      <td>Associated</td>\n",
       "    </tr>\n",
       "    <tr>\n",
       "      <th>1561</th>\n",
       "      <td>hsa-mir-200c</td>\n",
       "      <td>2767</td>\n",
       "      <td>Associated</td>\n",
       "    </tr>\n",
       "    <tr>\n",
       "      <th>...</th>\n",
       "      <td>...</td>\n",
       "      <td>...</td>\n",
       "      <td>...</td>\n",
       "    </tr>\n",
       "    <tr>\n",
       "      <th>5389</th>\n",
       "      <td>hsa-mir-888</td>\n",
       "      <td>5329102</td>\n",
       "      <td>Associated</td>\n",
       "    </tr>\n",
       "    <tr>\n",
       "      <th>5432</th>\n",
       "      <td>hsa-mir-7-1</td>\n",
       "      <td>31703</td>\n",
       "      <td>Associated</td>\n",
       "    </tr>\n",
       "    <tr>\n",
       "      <th>5466</th>\n",
       "      <td>hsa-mir-150</td>\n",
       "      <td>11626560</td>\n",
       "      <td>Associated</td>\n",
       "    </tr>\n",
       "    <tr>\n",
       "      <th>5498</th>\n",
       "      <td>hsa-mir-181a-2</td>\n",
       "      <td>2767</td>\n",
       "      <td>Associated</td>\n",
       "    </tr>\n",
       "    <tr>\n",
       "      <th>5499</th>\n",
       "      <td>hsa-mir-181a-2</td>\n",
       "      <td>36314</td>\n",
       "      <td>Associated</td>\n",
       "    </tr>\n",
       "  </tbody>\n",
       "</table>\n",
       "<p>86 rows × 3 columns</p>\n",
       "</div>"
      ],
      "text/plain": [
       "        miRBase_name       CID       Effect\n",
       "2       hsa-mir-24-1    126941  association\n",
       "953     hsa-mir-106b      2767   Associated\n",
       "1554     hsa-mir-221         -   Associated\n",
       "1560    hsa-mir-200b      2767   Associated\n",
       "1561    hsa-mir-200c      2767   Associated\n",
       "...              ...       ...          ...\n",
       "5389     hsa-mir-888   5329102   Associated\n",
       "5432     hsa-mir-7-1     31703   Associated\n",
       "5466     hsa-mir-150  11626560   Associated\n",
       "5498  hsa-mir-181a-2      2767   Associated\n",
       "5499  hsa-mir-181a-2     36314   Associated\n",
       "\n",
       "[86 rows x 3 columns]"
      ]
     },
     "execution_count": 8,
     "metadata": {},
     "output_type": "execute_result"
    }
   ],
   "source": [
    "drc = drn.loc[(drn['Effect'] == 'association') | (drn['Effect'] == 'Associated')]\n",
    "drc"
   ]
  },
  {
   "cell_type": "code",
   "execution_count": 9,
   "metadata": {},
   "outputs": [
    {
     "data": {
      "text/plain": [
       "Effect     \n",
       "Resistant      3080\n",
       "Sensitive      2494\n",
       "Associated       85\n",
       "-                 1\n",
       "association       1\n",
       "dtype: int64"
      ]
     },
     "execution_count": 9,
     "metadata": {},
     "output_type": "execute_result"
    }
   ],
   "source": [
    "drn.loc[:,[\"Effect\"]].value_counts()"
   ]
  },
  {
   "cell_type": "code",
   "execution_count": 10,
   "metadata": {},
   "outputs": [
    {
     "data": {
      "text/plain": [
       "array([['hsa-mir-24-1', '126941', 'association'],\n",
       "       ['hsa-mir-106b', '2767', 'Associated'],\n",
       "       ['hsa-mir-221', '-', 'Associated'],\n",
       "       ['hsa-mir-200b', '2767', 'Associated'],\n",
       "       ['hsa-mir-200c', '2767', 'Associated'],\n",
       "       ['hsa-mir-429', '2767', 'Associated'],\n",
       "       ['hsa-mir-21', '-', 'Associated'],\n",
       "       ['hsa-mir-19b-1', '3385', 'Associated'],\n",
       "       ['hsa-mir-21', '3385', 'Associated'],\n",
       "       ['hsa-mir-130a', '2767', 'Associated'],\n",
       "       ['hsa-mir-708', '31703', 'Associated'],\n",
       "       ['hsa-mir-708', '36462', 'Associated'],\n",
       "       ['hsa-mir-193b', '38904', 'Associated'],\n",
       "       ['hsa-mir-193b', '2767', 'Associated'],\n",
       "       ['hsa-mir-15a', '387447', 'Associated'],\n",
       "       ['hsa-mir-15a', '460612', 'Associated'],\n",
       "       ['hsa-mir-16-1', '387447', 'Associated'],\n",
       "       ['hsa-mir-16-1', '460612', 'Associated'],\n",
       "       ['hsa-mir-195', '3385', 'Associated'],\n",
       "       ['hsa-mir-15b', '2767', 'Associated'],\n",
       "       ['hsa-mir-16-1', '2767', 'Associated'],\n",
       "       ['hsa-mir-200c', '148124', 'Associated'],\n",
       "       ['hsa-mir-205', '148124', 'Associated'],\n",
       "       ['hsa-mir-21', '-', 'Associated'],\n",
       "       ['hsa-mir-181b-1', '5310940', 'Associated'],\n",
       "       ['hsa-mir-27b', '5310940', 'Associated'],\n",
       "       ['hsa-mir-625', '5310940', 'Associated'],\n",
       "       ['hsa-mir-16-1', '5978', 'Associated'],\n",
       "       ['hsa-mir-17', '3062316', 'Associated'],\n",
       "       ['hsa-mir-17', '644241', 'Associated'],\n",
       "       ['-', '3385', 'Associated'],\n",
       "       ['-', '-', 'Associated'],\n",
       "       ['hsa-mir-21', '-', 'Associated'],\n",
       "       ['hsa-mir-27a', '-', 'Associated'],\n",
       "       ['hsa-mir-30b', '176870', 'Associated'],\n",
       "       ['hsa-mir-30b', '123631', 'Associated'],\n",
       "       ['hsa-mir-145', '3385', 'Associated'],\n",
       "       ['hsa-mir-34a', '3385', 'Associated'],\n",
       "       ['hsa-mir-503', '2767', 'Associated'],\n",
       "       ['hsa-mir-630', '9915743', 'Associated'],\n",
       "       ['hsa-mir-125b-1', '3385', 'Associated'],\n",
       "       ['-', '36314', 'Associated'],\n",
       "       ['hsa-mir-34a', '-', 'Associated'],\n",
       "       ['hsa-mir-146a', '36314', 'Associated'],\n",
       "       ['hsa-mir-21', '36314', 'Associated'],\n",
       "       ['hsa-mir-204', '3385', 'Associated'],\n",
       "       ['hsa-mir-204', '2907', 'Associated'],\n",
       "       ['hsa-mir-204', '41867', 'Associated'],\n",
       "       ['hsa-mir-34a', '2767', 'Associated'],\n",
       "       ['hsa-mir-34a', '148124', 'Associated'],\n",
       "       ['hsa-mir-551b', '2767', 'Associated'],\n",
       "       ['hsa-mir-551b', '31703', 'Associated'],\n",
       "       ['hsa-mir-551b', '-', 'Associated'],\n",
       "       ['hsa-mir-502', '2767', 'Associated'],\n",
       "       ['hsa-mir-21', '3385', 'Associated'],\n",
       "       ['hsa-mir-34a', '36462', 'Associated'],\n",
       "       ['hsa-mir-145', '104842', 'Associated'],\n",
       "       ['hsa-mir-21', '2767', 'Associated'],\n",
       "       ['hsa-mir-141', '11226684', 'Associated'],\n",
       "       ['hsa-mir-200a', '11226684', 'Associated'],\n",
       "       ['hsa-mir-200b', '11226684', 'Associated'],\n",
       "       ['hsa-mir-200c', '11226684', 'Associated'],\n",
       "       ['hsa-mir-141', '5310940', 'Associated'],\n",
       "       ['hsa-mir-200c', '5310940', 'Associated'],\n",
       "       ['hsa-mir-146a', '6253', 'Associated'],\n",
       "       ['hsa-mir-150', '5329102', 'Associated'],\n",
       "       ['hsa-mir-196b', '5329102', 'Associated'],\n",
       "       ['hsa-mir-204', '5329102', 'Associated'],\n",
       "       ['hsa-mir-21', '5329102', 'Associated'],\n",
       "       ['hsa-mir-214', '5329102', 'Associated'],\n",
       "       ['hsa-mir-29c', '5329102', 'Associated'],\n",
       "       ['hsa-mir-302c', '5329102', 'Associated'],\n",
       "       ['hsa-mir-30a', '5329102', 'Associated'],\n",
       "       ['hsa-mir-30a', '5329102', 'Associated'],\n",
       "       ['hsa-mir-30d', '5329102', 'Associated'],\n",
       "       ['hsa-mir-30e', '5329102', 'Associated'],\n",
       "       ['hsa-mir-30e', '5329102', 'Associated'],\n",
       "       ['hsa-mir-324', '5329102', 'Associated'],\n",
       "       ['hsa-mir-454', '5329102', 'Associated'],\n",
       "       ['hsa-mir-483', '5329102', 'Associated'],\n",
       "       ['hsa-mir-636', '5329102', 'Associated'],\n",
       "       ['hsa-mir-888', '5329102', 'Associated'],\n",
       "       ['hsa-mir-7-1', '31703', 'Associated'],\n",
       "       ['hsa-mir-150', '11626560', 'Associated'],\n",
       "       ['hsa-mir-181a-2', '2767', 'Associated'],\n",
       "       ['hsa-mir-181a-2', '36314', 'Associated']], dtype=object)"
      ]
     },
     "execution_count": 10,
     "metadata": {},
     "output_type": "execute_result"
    }
   ],
   "source": [
    "drc.values"
   ]
  },
  {
   "cell_type": "code",
   "execution_count": 11,
   "metadata": {},
   "outputs": [
    {
     "name": "stdout",
     "output_type": "stream",
     "text": [
      "hsa-mir-24-1 126941 association\n",
      "hsa-mir-106b 2767 Associated\n",
      "hsa-mir-221 - Associated\n",
      "hsa-mir-200b 2767 Associated\n",
      "hsa-mir-200c 2767 Associated\n",
      "hsa-mir-429 2767 Associated\n",
      "hsa-mir-21 - Associated\n",
      "hsa-mir-19b-1 3385 Associated\n",
      "hsa-mir-21 3385 Associated\n",
      "hsa-mir-130a 2767 Associated\n",
      "hsa-mir-708 31703 Associated\n",
      "hsa-mir-708 36462 Associated\n",
      "hsa-mir-193b 38904 Associated\n",
      "hsa-mir-193b 2767 Associated\n",
      "hsa-mir-15a 387447 Associated\n",
      "hsa-mir-15a 460612 Associated\n",
      "hsa-mir-16-1 387447 Associated\n",
      "hsa-mir-16-1 460612 Associated\n",
      "hsa-mir-195 3385 Associated\n",
      "hsa-mir-15b 2767 Associated\n",
      "hsa-mir-16-1 2767 Associated\n",
      "hsa-mir-200c 148124 Associated\n",
      "hsa-mir-205 148124 Associated\n",
      "hsa-mir-21 - Associated\n",
      "hsa-mir-181b-1 5310940 Associated\n",
      "hsa-mir-27b 5310940 Associated\n",
      "hsa-mir-625 5310940 Associated\n",
      "hsa-mir-16-1 5978 Associated\n",
      "hsa-mir-17 3062316 Associated\n",
      "hsa-mir-17 644241 Associated\n",
      "- 3385 Associated\n",
      "- - Associated\n",
      "hsa-mir-21 - Associated\n",
      "hsa-mir-27a - Associated\n",
      "hsa-mir-30b 176870 Associated\n",
      "hsa-mir-30b 123631 Associated\n",
      "hsa-mir-145 3385 Associated\n",
      "hsa-mir-34a 3385 Associated\n",
      "hsa-mir-503 2767 Associated\n",
      "hsa-mir-630 9915743 Associated\n",
      "hsa-mir-125b-1 3385 Associated\n",
      "- 36314 Associated\n",
      "hsa-mir-34a - Associated\n",
      "hsa-mir-146a 36314 Associated\n",
      "hsa-mir-21 36314 Associated\n",
      "hsa-mir-204 3385 Associated\n",
      "hsa-mir-204 2907 Associated\n",
      "hsa-mir-204 41867 Associated\n",
      "hsa-mir-34a 2767 Associated\n",
      "hsa-mir-34a 148124 Associated\n",
      "hsa-mir-551b 2767 Associated\n",
      "hsa-mir-551b 31703 Associated\n",
      "hsa-mir-551b - Associated\n",
      "hsa-mir-502 2767 Associated\n",
      "hsa-mir-21 3385 Associated\n",
      "hsa-mir-34a 36462 Associated\n",
      "hsa-mir-145 104842 Associated\n",
      "hsa-mir-21 2767 Associated\n",
      "hsa-mir-141 11226684 Associated\n",
      "hsa-mir-200a 11226684 Associated\n",
      "hsa-mir-200b 11226684 Associated\n",
      "hsa-mir-200c 11226684 Associated\n",
      "hsa-mir-141 5310940 Associated\n",
      "hsa-mir-200c 5310940 Associated\n",
      "hsa-mir-146a 6253 Associated\n",
      "hsa-mir-150 5329102 Associated\n",
      "hsa-mir-196b 5329102 Associated\n",
      "hsa-mir-204 5329102 Associated\n",
      "hsa-mir-21 5329102 Associated\n",
      "hsa-mir-214 5329102 Associated\n",
      "hsa-mir-29c 5329102 Associated\n",
      "hsa-mir-302c 5329102 Associated\n",
      "hsa-mir-30a 5329102 Associated\n",
      "hsa-mir-30a 5329102 Associated\n",
      "hsa-mir-30d 5329102 Associated\n",
      "hsa-mir-30e 5329102 Associated\n",
      "hsa-mir-30e 5329102 Associated\n",
      "hsa-mir-324 5329102 Associated\n",
      "hsa-mir-454 5329102 Associated\n",
      "hsa-mir-483 5329102 Associated\n",
      "hsa-mir-636 5329102 Associated\n",
      "hsa-mir-888 5329102 Associated\n",
      "hsa-mir-7-1 31703 Associated\n",
      "hsa-mir-150 11626560 Associated\n",
      "hsa-mir-181a-2 2767 Associated\n",
      "hsa-mir-181a-2 36314 Associated\n"
     ]
    }
   ],
   "source": [
    "for pubmed, mirna, effect in drc.values:\n",
    "    print(pubmed, mirna, effect)"
   ]
  },
  {
   "cell_type": "code",
   "execution_count": 12,
   "metadata": {},
   "outputs": [],
   "source": [
    "import pubchempy as pcp\n",
    "import re"
   ]
  },
  {
   "cell_type": "code",
   "execution_count": 13,
   "metadata": {},
   "outputs": [
    {
     "name": "stdout",
     "output_type": "stream",
     "text": [
      "PID 189723346 对应的CIDs是：[]\n"
     ]
    }
   ],
   "source": [
    "def get_cids_from_pid(pid):\n",
    "    substance = pcp.Substance.from_sid(pid)\n",
    "    return substance.cids\n",
    "\n",
    "# 使用示例\n",
    "pid = '189723346'  # 示例PID\n",
    "cids = get_cids_from_pid(pid)\n",
    "print(f'PID {pid} 对应的CIDs是：{cids}')"
   ]
  },
  {
   "cell_type": "code",
   "execution_count": 16,
   "metadata": {},
   "outputs": [
    {
     "name": "stdout",
     "output_type": "stream",
     "text": [
      "['3385', '126941', '31703', '5978', '36314', '3062316', '2907', '123631', '5310940', '11226684', '644241', '387447', '2767', '6253', '460612', '9915743', '36462', '148124', '176870', '104842', '-', '41867', '38904', '5329102', '11626560']\n",
      "cid: 3385 --- pid: [439160]\n",
      "cid: 126941 --- pid: [309210]\n",
      "cid: 31703 --- pid: []\n",
      "cid: 31703 --- pid: None\n",
      "cid: 5978 --- pid: [102526]\n",
      "cid: 36314 --- pid: []\n",
      "cid: 36314 --- pid: None\n",
      "cid: 3062316 --- pid: []\n",
      "cid: 3062316 --- pid: None\n",
      "cid: 2907 --- pid: []\n",
      "cid: 2907 --- pid: None\n",
      "cid: 123631 --- pid: [258096]\n",
      "cid: 5310940 --- pid: [1480208]\n",
      "cid: 11226684 --- pid: [3460570]\n",
      "cid: 644241 --- pid: [485231]\n",
      "cid: 387447 --- pid: []\n",
      "cid: 387447 --- pid: None\n",
      "cid: 2767 --- pid: [79014]\n",
      "cid: 6253 --- pid: []\n",
      "cid: 6253 --- pid: None\n",
      "cid: 460612 --- pid: [54599647]\n",
      "cid: 9915743 --- pid: [2094602]\n",
      "cid: 36462 --- pid: []\n",
      "cid: 36462 --- pid: None\n",
      "cid: 148124 --- pid: [84517]\n",
      "cid: 176870 --- pid: []\n",
      "cid: 176870 --- pid: None\n",
      "cid: 104842 --- pid: [5356333]\n",
      "cid: 41867 --- pid: []\n",
      "cid: 41867 --- pid: None\n",
      "cid: 38904 --- pid: []\n",
      "cid: 38904 --- pid: None\n",
      "cid: 5329102 --- pid: [3772420]\n",
      "cid: 11626560 --- pid: []\n",
      "cid: 11626560 --- pid: None\n"
     ]
    }
   ],
   "source": [
    "cids = drc.loc[:,\"CID\"].values\n",
    "cids = list(set(cids))\n",
    "print(cids)\n",
    "cid2pid = {}\n",
    "\n",
    "for cid in cids:\n",
    "    # print(re.match(r'^\\d+$', cid))\n",
    "    if re.match(r'^\\d+$', cid) != None:\n",
    "        print('cid: {} --- pid: {}'.format(cid,get_cids_from_pid(cid)))\n",
    "        if(len(get_cids_from_pid(cid)) > 0):\n",
    "            cid2pid[cid] = get_cids_from_pid(cid)[0]\n",
    "    else:\n",
    "        print('cid: {} --- pid: {}'.format(cid,'None'))"
   ]
  },
  {
   "cell_type": "code",
   "execution_count": 24,
   "metadata": {},
   "outputs": [],
   "source": [
    "old_mda = pd.read_csv(\"data(MDA108)/mirna_drug_1043_2166.txt\",sep=',',header=0, index_col = 0)"
   ]
  },
  {
   "cell_type": "code",
   "execution_count": 26,
   "metadata": {},
   "outputs": [
    {
     "name": "stdout",
     "output_type": "stream",
     "text": [
      "0\n"
     ]
    }
   ],
   "source": [
    "mirnas = old_mda.index.values\n",
    "drugs = old_mda.columns.values\n",
    "\n",
    "count = 0\n",
    "for pubmed, mirna, effect in drc.values:\n",
    "    if mirna in mirnas:\n",
    "        pid = cid2pid.get(pubmed)\n",
    "        if pid in drugs and old_mda.loc[mirna,pid] == 0:\n",
    "            count += 1\n",
    "print(count)"
   ]
  }
 ],
 "metadata": {
  "kernelspec": {
   "display_name": "keras",
   "language": "python",
   "name": "python3"
  },
  "language_info": {
   "codemirror_mode": {
    "name": "ipython",
    "version": 3
   },
   "file_extension": ".py",
   "mimetype": "text/x-python",
   "name": "python",
   "nbconvert_exporter": "python",
   "pygments_lexer": "ipython3",
   "version": "3.8.0"
  },
  "orig_nbformat": 4
 },
 "nbformat": 4,
 "nbformat_minor": 2
}
