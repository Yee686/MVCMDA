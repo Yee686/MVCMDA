{
 "cells": [
  {
   "cell_type": "code",
   "execution_count": 18,
   "metadata": {},
   "outputs": [],
   "source": [
    "from rdkit import Chem\n",
    "from gensim.models import word2vec\n",
    "from mol2vec.features import mol2alt_sentence, MolSentence, DfVec, sentences2vec\n",
    "import numpy as np\n",
    "import pandas as pd\n",
    "from sklearn.preprocessing import normalize\n",
    "import matplotlib.pyplot as plt\n",
    "import numpy as np"
   ]
  },
  {
   "cell_type": "code",
   "execution_count": 19,
   "metadata": {},
   "outputs": [
    {
     "data": {
      "text/html": [
       "<div>\n",
       "<style scoped>\n",
       "    .dataframe tbody tr th:only-of-type {\n",
       "        vertical-align: middle;\n",
       "    }\n",
       "\n",
       "    .dataframe tbody tr th {\n",
       "        vertical-align: top;\n",
       "    }\n",
       "\n",
       "    .dataframe thead th {\n",
       "        text-align: right;\n",
       "    }\n",
       "</style>\n",
       "<table border=\"1\" class=\"dataframe\">\n",
       "  <thead>\n",
       "    <tr style=\"text-align: right;\">\n",
       "      <th></th>\n",
       "      <th>cid</th>\n",
       "      <th>isosmiles</th>\n",
       "    </tr>\n",
       "  </thead>\n",
       "  <tbody>\n",
       "    <tr>\n",
       "      <th>0</th>\n",
       "      <td>15</td>\n",
       "      <td>CC12CCC(=O)CC1CCC3C2CCC4(C3CCC4O)C</td>\n",
       "    </tr>\n",
       "    <tr>\n",
       "      <th>1</th>\n",
       "      <td>119</td>\n",
       "      <td>C(CC(=O)O)CN</td>\n",
       "    </tr>\n",
       "    <tr>\n",
       "      <th>2</th>\n",
       "      <td>137</td>\n",
       "      <td>C(CC(=O)O)C(=O)CN</td>\n",
       "    </tr>\n",
       "    <tr>\n",
       "      <th>3</th>\n",
       "      <td>176</td>\n",
       "      <td>CC(=O)O</td>\n",
       "    </tr>\n",
       "    <tr>\n",
       "      <th>4</th>\n",
       "      <td>187</td>\n",
       "      <td>CC(=O)OCC[N+](C)(C)C</td>\n",
       "    </tr>\n",
       "    <tr>\n",
       "      <th>...</th>\n",
       "      <td>...</td>\n",
       "      <td>...</td>\n",
       "    </tr>\n",
       "    <tr>\n",
       "      <th>2161</th>\n",
       "      <td>131704316</td>\n",
       "      <td>CCOCCP(CCOCC)CCP(CCOCC)CCOCC.CCOCCP(CCOCC)CCP(...</td>\n",
       "    </tr>\n",
       "    <tr>\n",
       "      <th>2162</th>\n",
       "      <td>131704319</td>\n",
       "      <td>C(CN(CC(=O)O)CC(=O)O)N(CCN(CC(=O)[O-])CC(=O)[O...</td>\n",
       "    </tr>\n",
       "    <tr>\n",
       "      <th>2163</th>\n",
       "      <td>131704321</td>\n",
       "      <td>CC(C1C(=O)NC(CSSCC(C(=O)NC(C(=O)NC(C(=O)NC(C(=...</td>\n",
       "    </tr>\n",
       "    <tr>\n",
       "      <th>2164</th>\n",
       "      <td>131704328</td>\n",
       "      <td>C1(C(C(OC(C1OC2C(C(C(C(O2)C(=O)O)P)O)O)C(=O)O)...</td>\n",
       "    </tr>\n",
       "    <tr>\n",
       "      <th>2165</th>\n",
       "      <td>131704329</td>\n",
       "      <td>O.[O-][Si]([O-])([O-])[O-].[O-][Si]([O-])([O-]...</td>\n",
       "    </tr>\n",
       "  </tbody>\n",
       "</table>\n",
       "<p>2166 rows × 2 columns</p>\n",
       "</div>"
      ],
      "text/plain": [
       "            cid                                          isosmiles\n",
       "0            15                 CC12CCC(=O)CC1CCC3C2CCC4(C3CCC4O)C\n",
       "1           119                                       C(CC(=O)O)CN\n",
       "2           137                                  C(CC(=O)O)C(=O)CN\n",
       "3           176                                            CC(=O)O\n",
       "4           187                               CC(=O)OCC[N+](C)(C)C\n",
       "...         ...                                                ...\n",
       "2161  131704316  CCOCCP(CCOCC)CCP(CCOCC)CCOCC.CCOCCP(CCOCC)CCP(...\n",
       "2162  131704319  C(CN(CC(=O)O)CC(=O)O)N(CCN(CC(=O)[O-])CC(=O)[O...\n",
       "2163  131704321  CC(C1C(=O)NC(CSSCC(C(=O)NC(C(=O)NC(C(=O)NC(C(=...\n",
       "2164  131704328  C1(C(C(OC(C1OC2C(C(C(C(O2)C(=O)O)P)O)O)C(=O)O)...\n",
       "2165  131704329  O.[O-][Si]([O-])([O-])[O-].[O-][Si]([O-])([O-]...\n",
       "\n",
       "[2166 rows x 2 columns]"
      ]
     },
     "execution_count": 19,
     "metadata": {},
     "output_type": "execute_result"
    }
   ],
   "source": [
    "df = pd.read_csv('../GraphDTA/PubChem_compound_2166.csv', sep=',', header=0)\n",
    "cid2smile = df.loc[:,['cid','isosmiles']]\n",
    "cid2smile"
   ]
  },
  {
   "cell_type": "code",
   "execution_count": 20,
   "metadata": {},
   "outputs": [
    {
     "name": "stderr",
     "output_type": "stream",
     "text": [
      "[21:31:36] WARNING: not removing hydrogen atom without neighbors\n",
      "[21:31:36] WARNING: not removing hydrogen atom without neighbors\n"
     ]
    },
    {
     "data": {
      "text/plain": [
       "2166"
      ]
     },
     "execution_count": 20,
     "metadata": {},
     "output_type": "execute_result"
    }
   ],
   "source": [
    "cid2mol = {}\n",
    "for cid, smile in cid2smile.values:\n",
    "    mol = Chem.MolFromSmiles(smile)\n",
    "    cid2mol[cid] = mol\n",
    "cid2mol.__len__()"
   ]
  },
  {
   "cell_type": "code",
   "execution_count": 21,
   "metadata": {},
   "outputs": [],
   "source": [
    "model = word2vec.Word2Vec.load('../MultiView/model_300dim.pkl')\n",
    "molvec = []"
   ]
  },
  {
   "cell_type": "code",
   "execution_count": 22,
   "metadata": {},
   "outputs": [],
   "source": [
    "for cid, mol in cid2mol.items():\n",
    "    sentence = mol2alt_sentence(mol, 1) # 1表示使用Extended Connectivity Circular Fingerprints (ECFP)来描述分子\n",
    "    vec = sentences2vec([sentence], model, unseen='UNK')\n",
    "    molvec.append(np.squeeze(vec))"
   ]
  },
  {
   "cell_type": "code",
   "execution_count": 27,
   "metadata": {},
   "outputs": [
    {
     "name": "stdout",
     "output_type": "stream",
     "text": [
      "[ -2.8710177    8.680691    -4.7291713  -12.874216    -6.7263985\n",
      "  -9.186129    -6.4428673  -12.151199     4.688804    -0.07173154\n",
      "  16.517836   -10.100932    -4.1156993   -3.500794    -5.249908\n",
      "  -2.6531928   -5.1405745    3.58629     -2.5621886  -14.865622\n",
      "  -8.197967    19.708408   -14.977314    -1.6760391   12.517939\n",
      "   6.1339207   -4.4250007  -11.90333     18.27433     -1.1797976\n",
      " -10.967694     1.1265635   12.079956    -4.4932365   -8.844753\n",
      "  -3.4499538    3.2988095    9.64558     -8.484896     9.62206\n",
      "   8.135211     5.9575677    5.016935    -9.475317    -3.8953123\n",
      "  -6.462372   -12.769381     8.490169    18.248945    21.651237\n",
      "  12.90065     -2.8545017   -4.3007097    5.6893625   -6.020914\n",
      "   0.27039957   0.28031537  -2.8219504    5.9840884    2.7354128\n",
      "   0.5644045   -9.579287    -0.69751406   4.793314   -20.308357\n",
      " -13.125845    -0.35330868  11.539902     7.0380564    6.3263474\n",
      "  -4.7310696    6.610135    13.890312     3.3156505   -8.549282\n",
      "  -3.588641    -4.4643087   -1.3811188   -9.252439    -5.6929398\n",
      "   8.802005     9.173272    -2.0022907   -1.4538057  -19.16037\n",
      "  12.551896    -6.9135375    8.794099   -10.966981     0.57411116\n",
      "  22.328465     0.40882903  -6.1887712  -17.654222    16.285181\n",
      " -14.738684    13.561883     6.6251283  -18.364525     3.0840738 ]\n"
     ]
    }
   ],
   "source": [
    "molvec = np.array(molvec)\n",
    "molvec.shape\n",
    "print(molvec[0])"
   ]
  },
  {
   "cell_type": "code",
   "execution_count": 24,
   "metadata": {},
   "outputs": [],
   "source": [
    "def min_max_normalize(matrix):\n",
    "    \"\"\"\n",
    "    对矩阵的每一行做0-1标准化\n",
    "    \"\"\"\n",
    "    # 获取矩阵的行数和列数\n",
    "    row_count, col_count = matrix.shape\n",
    "    \n",
    "    # 对每一行做标准化\n",
    "    for i in range(row_count):\n",
    "        row = matrix[i]\n",
    "        row_min = np.min(row)\n",
    "        row_max = np.max(row)\n",
    "        if row_max - row_min == 0:\n",
    "            matrix[i] = np.zeros_like(row)\n",
    "        else:\n",
    "            matrix[i] = (row - row_min) / (row_max - row_min)\n",
    "    \n",
    "    return matrix"
   ]
  },
  {
   "cell_type": "code",
   "execution_count": 31,
   "metadata": {},
   "outputs": [
    {
     "name": "stdout",
     "output_type": "stream",
     "text": [
      "1.0 0.0\n",
      "39.46089 13.64889\n",
      "1.0 0.0\n"
     ]
    },
    {
     "data": {
      "image/png": "[encoded data removed]",
      "text/plain": [
       "<Figure size 432x288 with 1 Axes>"
      ]
     },
     "metadata": {
      "needs_background": "light"
     },
     "output_type": "display_data"
    }
   ],
   "source": [
    "molvec = min_max_normalize(molvec)\n",
    "\n",
    "molvec_dot = molvec@molvec.T\n",
    "\n",
    "print(np.max(molvec), np.min(molvec))\n",
    "print(np.max(molvec_dot), np.min(molvec_dot))\n",
    "\n",
    "molvec_dot_normalized = (molvec_dot - np.min(molvec_dot)) / (np.max(molvec_dot) - np.min(molvec_dot))\n",
    "\n",
    "print(np.max(molvec_dot_normalized), np.min(molvec_dot_normalized))\n",
    "\n",
    "np.savetxt('../MultiView/drug_mol2vec_sim.csv', molvec_dot_normalized, delimiter=',')\n",
    "\n",
    "plt.hist(molvec_dot_normalized.flatten(), bins=20, range=(0, 1))\n",
    "plt.xlabel('Value Range')\n",
    "plt.ylabel('Count')\n",
    "plt.show()"
   ]
  }
 ],
 "metadata": {
  "kernelspec": {
   "display_name": "keras",
   "language": "python",
   "name": "python3"
  },
  "language_info": {
   "codemirror_mode": {
    "name": "ipython",
    "version": 3
   },
   "file_extension": ".py",
   "mimetype": "text/x-python",
   "name": "python",
   "nbconvert_exporter": "python",
   "pygments_lexer": "ipython3",
   "version": "3.8.0"
  },
  "orig_nbformat": 4
 },
 "nbformat": 4,
 "nbformat_minor": 2
}
