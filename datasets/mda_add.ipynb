{
 "cells": [
  {
   "cell_type": "code",
   "execution_count": 9,
   "metadata": {},
   "outputs": [],
   "source": [
    "import pandas as pd\n",
    "import numpy as np"
   ]
  },
  {
   "cell_type": "code",
   "execution_count": 10,
   "metadata": {},
   "outputs": [
    {
     "name": "stdout",
     "output_type": "stream",
     "text": [
      "['hsa-let-7' 'hsa-let-7a' 'hsa-let-7a-1' ... 'hsa-mir-99a' 'hsa-mir-99b'\n",
      " 'hsa-mir-9a']\n",
      "['15' '119' '137' ... '131704321' '131704328' '131704329']\n"
     ]
    }
   ],
   "source": [
    "old_mda = pd.read_csv(\"/mnt/yzy/NIMCGCN/datasets/data(MDA108)/mirna_drug_1043_2166.txt\",\n",
    "                      sep=\",\", header=0, index_col=0)\n",
    "rnas = old_mda.index.values\n",
    "drugs = old_mda.columns.values\n",
    "print(rnas)\n",
    "print(drugs)"
   ]
  },
  {
   "cell_type": "code",
   "execution_count": 11,
   "metadata": {},
   "outputs": [
    {
     "data": {
      "text/plain": [
       "Index(['mirnet', 'mir_acc', 'mir_id', 'molecule', 'drug_bank', 'pubchem_id',\n",
       "       'method', 'condition', 'pmid', 'expression'],\n",
       "      dtype='object')"
      ]
     },
     "execution_count": 11,
     "metadata": {},
     "output_type": "execute_result"
    }
   ],
   "source": [
    "miRNet = pd.read_csv(\"/mnt/yzy/NIMCGCN/datasets/miRNet-mir-mol-hsa.csv\",\n",
    "                     sep=',', header=0)\n",
    "miRNet.columns"
   ]
  },
  {
   "cell_type": "code",
   "execution_count": 12,
   "metadata": {},
   "outputs": [
    {
     "data": {
      "text/plain": [
       "array([['hsa-mir-32-5p', '15'],\n",
       "       ['hsa-mir-148a-3p', '15'],\n",
       "       ['hsa-let-7d-5p', '241'],\n",
       "       ...,\n",
       "       ['hsa-mir-181b-5p', 'Vincristine '],\n",
       "       ['hsa-mir-429', 'Vincristine '],\n",
       "       ['hsa-mir-297', 'Vincristine ']], dtype=object)"
      ]
     },
     "execution_count": 12,
     "metadata": {},
     "output_type": "execute_result"
    }
   ],
   "source": [
    "miRNet = miRNet[['mir_id','pubchem_id']]\n",
    "miRNet_mda =  miRNet.values\n",
    "miRNet_mda"
   ]
  },
  {
   "cell_type": "code",
   "execution_count": 13,
   "metadata": {},
   "outputs": [
    {
     "name": "stdout",
     "output_type": "stream",
     "text": [
      "735\n",
      "236\n",
      "191\n",
      "142\n"
     ]
    }
   ],
   "source": [
    "miRNet_mir = list(set(miRNet['mir_id'].values))\n",
    "miRNet_drug = list(set(miRNet['pubchem_id'].values))\n",
    "print(len(miRNet_mir))\n",
    "print(len(miRNet_drug))\n",
    "\n",
    "i,j = 0,0\n",
    "\n",
    "for mir in miRNet_mir:\n",
    "    if mir in rnas:\n",
    "        i += 1\n",
    "print(i)\n",
    "\n",
    "for drug in miRNet_drug:\n",
    "    if drug in drugs:\n",
    "        j += 1\n",
    "print(j)"
   ]
  },
  {
   "cell_type": "code",
   "execution_count": 16,
   "metadata": {},
   "outputs": [
    {
     "name": "stdout",
     "output_type": "stream",
     "text": [
      "0\n"
     ]
    },
    {
     "data": {
      "text/plain": [
       "1502"
      ]
     },
     "execution_count": 16,
     "metadata": {},
     "output_type": "execute_result"
    }
   ],
   "source": [
    "count = 0\n",
    "for [mir, drug] in miRNet_mda:\n",
    "    if mir in rnas and drug in drugs and old_mda.loc[mir, drug] == 0:\n",
    "        # print(mir, drug)\n",
    "        old_mda.loc[mir, drug] = 1\n",
    "        count += 1\n",
    "print(count)\n",
    "old_mda.sum().sum()"
   ]
  },
  {
   "cell_type": "code",
   "execution_count": 17,
   "metadata": {},
   "outputs": [],
   "source": [
    "old_mda.to_csv(\"/mnt/yzy/NIMCGCN/datasets/data(MDA108)/mirna_drug_1043_2166_1502.txt\", sep=',', header=True, index=True)"
   ]
  }
 ],
 "metadata": {
  "kernelspec": {
   "display_name": "torch110",
   "language": "python",
   "name": "python3"
  },
  "language_info": {
   "codemirror_mode": {
    "name": "ipython",
    "version": 3
   },
   "file_extension": ".py",
   "mimetype": "text/x-python",
   "name": "python",
   "nbconvert_exporter": "python",
   "pygments_lexer": "ipython3",
   "version": "3.8.13"
  },
  "orig_nbformat": 4
 },
 "nbformat": 4,
 "nbformat_minor": 2
}
