{
 "cells": [
  {
   "cell_type": "code",
   "execution_count": 3,
   "metadata": {},
   "outputs": [],
   "source": [
    "from rdkit import Chem\n",
    "from gensim.models import word2vec\n",
    "from mol2vec.features import mol2alt_sentence, MolSentence, DfVec, sentences2vec\n",
    "import numpy as np\n",
    "import pandas as pd"
   ]
  },
  {
   "cell_type": "code",
   "execution_count": 12,
   "metadata": {},
   "outputs": [
    {
     "data": {
      "text/html": [
       "<div>\n",
       "<style scoped>\n",
       "    .dataframe tbody tr th:only-of-type {\n",
       "        vertical-align: middle;\n",
       "    }\n",
       "\n",
       "    .dataframe tbody tr th {\n",
       "        vertical-align: top;\n",
       "    }\n",
       "\n",
       "    .dataframe thead th {\n",
       "        text-align: right;\n",
       "    }\n",
       "</style>\n",
       "<table border=\"1\" class=\"dataframe\">\n",
       "  <thead>\n",
       "    <tr style=\"text-align: right;\">\n",
       "      <th></th>\n",
       "      <th>cid</th>\n",
       "      <th>isosmiles</th>\n",
       "    </tr>\n",
       "  </thead>\n",
       "  <tbody>\n",
       "    <tr>\n",
       "      <th>0</th>\n",
       "      <td>15</td>\n",
       "      <td>CC12CCC(=O)CC1CCC3C2CCC4(C3CCC4O)C</td>\n",
       "    </tr>\n",
       "    <tr>\n",
       "      <th>1</th>\n",
       "      <td>119</td>\n",
       "      <td>C(CC(=O)O)CN</td>\n",
       "    </tr>\n",
       "    <tr>\n",
       "      <th>2</th>\n",
       "      <td>137</td>\n",
       "      <td>C(CC(=O)O)C(=O)CN</td>\n",
       "    </tr>\n",
       "    <tr>\n",
       "      <th>3</th>\n",
       "      <td>176</td>\n",
       "      <td>CC(=O)O</td>\n",
       "    </tr>\n",
       "    <tr>\n",
       "      <th>4</th>\n",
       "      <td>187</td>\n",
       "      <td>CC(=O)OCC[N+](C)(C)C</td>\n",
       "    </tr>\n",
       "    <tr>\n",
       "      <th>...</th>\n",
       "      <td>...</td>\n",
       "      <td>...</td>\n",
       "    </tr>\n",
       "    <tr>\n",
       "      <th>2161</th>\n",
       "      <td>131704316</td>\n",
       "      <td>CCOCCP(CCOCC)CCP(CCOCC)CCOCC.CCOCCP(CCOCC)CCP(...</td>\n",
       "    </tr>\n",
       "    <tr>\n",
       "      <th>2162</th>\n",
       "      <td>131704319</td>\n",
       "      <td>C(CN(CC(=O)O)CC(=O)O)N(CCN(CC(=O)[O-])CC(=O)[O...</td>\n",
       "    </tr>\n",
       "    <tr>\n",
       "      <th>2163</th>\n",
       "      <td>131704321</td>\n",
       "      <td>CC(C1C(=O)NC(CSSCC(C(=O)NC(C(=O)NC(C(=O)NC(C(=...</td>\n",
       "    </tr>\n",
       "    <tr>\n",
       "      <th>2164</th>\n",
       "      <td>131704328</td>\n",
       "      <td>C1(C(C(OC(C1OC2C(C(C(C(O2)C(=O)O)P)O)O)C(=O)O)...</td>\n",
       "    </tr>\n",
       "    <tr>\n",
       "      <th>2165</th>\n",
       "      <td>131704329</td>\n",
       "      <td>O.[O-][Si]([O-])([O-])[O-].[O-][Si]([O-])([O-]...</td>\n",
       "    </tr>\n",
       "  </tbody>\n",
       "</table>\n",
       "<p>2166 rows × 2 columns</p>\n",
       "</div>"
      ],
      "text/plain": [
       "            cid                                          isosmiles\n",
       "0            15                 CC12CCC(=O)CC1CCC3C2CCC4(C3CCC4O)C\n",
       "1           119                                       C(CC(=O)O)CN\n",
       "2           137                                  C(CC(=O)O)C(=O)CN\n",
       "3           176                                            CC(=O)O\n",
       "4           187                               CC(=O)OCC[N+](C)(C)C\n",
       "...         ...                                                ...\n",
       "2161  131704316  CCOCCP(CCOCC)CCP(CCOCC)CCOCC.CCOCCP(CCOCC)CCP(...\n",
       "2162  131704319  C(CN(CC(=O)O)CC(=O)O)N(CCN(CC(=O)[O-])CC(=O)[O...\n",
       "2163  131704321  CC(C1C(=O)NC(CSSCC(C(=O)NC(C(=O)NC(C(=O)NC(C(=...\n",
       "2164  131704328  C1(C(C(OC(C1OC2C(C(C(C(O2)C(=O)O)P)O)O)C(=O)O)...\n",
       "2165  131704329  O.[O-][Si]([O-])([O-])[O-].[O-][Si]([O-])([O-]...\n",
       "\n",
       "[2166 rows x 2 columns]"
      ]
     },
     "execution_count": 12,
     "metadata": {},
     "output_type": "execute_result"
    }
   ],
   "source": [
    "df = pd.read_csv('../GraphDTA/PubChem_compound_2166.csv', sep=',', header=0)\n",
    "cid2smile = df.loc[:,['cid','isosmiles']]\n",
    "cid2smile"
   ]
  },
  {
   "cell_type": "code",
   "execution_count": null,
   "metadata": {},
   "outputs": [],
   "source": [
    "cid2mol = {}\n",
    "for cid, smile in cid2smile.values:\n",
    "    mol = Chem.MolFromSmiles(smile)\n",
    "    cid2mol[cid] = mol\n",
    "cid2mol"
   ]
  }
 ],
 "metadata": {
  "kernelspec": {
   "display_name": "keras",
   "language": "python",
   "name": "python3"
  },
  "language_info": {
   "codemirror_mode": {
    "name": "ipython",
    "version": 3
   },
   "file_extension": ".py",
   "mimetype": "text/x-python",
   "name": "python",
   "nbconvert_exporter": "python",
   "pygments_lexer": "ipython3",
   "version": "3.8.0"
  },
  "orig_nbformat": 4
 },
 "nbformat": 4,
 "nbformat_minor": 2
}
