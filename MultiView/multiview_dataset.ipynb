{
 "cells": [
  {
   "cell_type": "code",
   "execution_count": 1,
   "metadata": {},
   "outputs": [],
   "source": [
    "import torch\n",
    "import numpy as np"
   ]
  },
  {
   "cell_type": "code",
   "execution_count": 15,
   "metadata": {},
   "outputs": [
    {
     "name": "stdout",
     "output_type": "stream",
     "text": [
      "torch.Size([2, 948255])\n"
     ]
    },
    {
     "data": {
      "text/plain": [
       "tensor([[   0,    0,    0,  ..., 1042, 1042, 1042],\n",
       "        [   0,    1,    2,  ..., 1040, 1041, 1042]])"
      ]
     },
     "execution_count": 15,
     "metadata": {},
     "output_type": "execute_result"
    }
   ],
   "source": [
    "def get_edge(matrix):\n",
    "    edge_x = []\n",
    "    edge_y = []\n",
    "    for i in range(0,matrix.shape[0]):\n",
    "        for j in range(0,matrix.shape[1]):\n",
    "            if(matrix[i][j] != 0):\n",
    "                edge_x.append(i)\n",
    "                edge_y.append(j)\n",
    "    \n",
    "    edge = torch.tensor([edge_x,edge_y])\n",
    "    print(edge.shape)\n",
    "    return edge\n",
    "get_edge(old_dataset['mm']['data'])"
   ]
  },
  {
   "cell_type": "code",
   "execution_count": 8,
   "metadata": {},
   "outputs": [
    {
     "name": "stdout",
     "output_type": "stream",
     "text": [
      "torch.Size([2, 948255])\n"
     ]
    }
   ],
   "source": [
    "print(old_dataset['mm']['edge_index'].shape)"
   ]
  },
  {
   "cell_type": "code",
   "execution_count": 4,
   "metadata": {},
   "outputs": [
    {
     "name": "stdout",
     "output_type": "stream",
     "text": [
      "dict_keys(['md_p', 'md_true', 'mm', 'dd', 'fold_one_index', 'fold_zero_index'])\n",
      "torch.Size([1043, 2166])\n",
      "torch.Size([1043, 2166])\n",
      "torch.Size([1043, 1043])\n",
      "torch.Size([2, 948255])\n",
      "torch.Size([2166, 2166])\n",
      "torch.Size([2, 4670244])\n",
      "torch.Size([10, 2, 143])\n",
      "torch.Size([10, 2, 225771])\n",
      "1087849 4691556\n"
     ]
    }
   ],
   "source": [
    "old_dataset = torch.load(\"/mnt/yzy/NIMCGCN/new_dataset.pt\")\n",
    "print(old_dataset.keys())\n",
    "print(old_dataset['md_p'].shape)\n",
    "print(old_dataset['md_true'].shape)\n",
    "print(old_dataset['mm']['data'].shape)\n",
    "print(old_dataset['mm']['edge_index'].shape)\n",
    "print(old_dataset['dd']['data'].shape)\n",
    "print(old_dataset['dd']['edge_index'].shape)\n",
    "print(old_dataset['fold_one_index'].shape)\n",
    "print(old_dataset['fold_zero_index'].shape)\n",
    "print(1043*1043,2166*2166)"
   ]
  },
  {
   "cell_type": "code",
   "execution_count": 13,
   "metadata": {},
   "outputs": [
    {
     "name": "stdout",
     "output_type": "stream",
     "text": [
      "(2166, 2166)\n",
      "(1043, 1043)\n"
     ]
    }
   ],
   "source": [
    "drug_mol2vec_sim = np.loadtxt(\"/mnt/yzy/NIMCGCN/MultiView/drug_mol2vec_sim.csv\",delimiter=',')\n",
    "rna_seq_sim = np.loadtxt(\"/mnt/yzy/NIMCGCN/MultiView/rna_seq_sim.csv\",delimiter=',')\n",
    "\n",
    "print(drug_mol2vec_sim.shape)\n",
    "print(rna_seq_sim.shape)"
   ]
  },
  {
   "cell_type": "code",
   "execution_count": 16,
   "metadata": {},
   "outputs": [
    {
     "name": "stdout",
     "output_type": "stream",
     "text": [
      "torch.Size([2, 4691554])\n",
      "torch.Size([2, 4691554])\n",
      "tensor([   0,    0,    0,  ..., 2165, 2165, 2165])\n",
      "torch.Size([2166, 2166])\n",
      "tensor([0.5190, 0.4533, 0.4735,  ..., 0.3160, 0.4666, 0.6221],\n",
      "       dtype=torch.float64)\n",
      "torch.Size([2, 659344])\n",
      "torch.Size([2, 659344])\n",
      "tensor([   2,    2,    2,  ..., 1041, 1041, 1041])\n",
      "torch.Size([1043, 1043])\n",
      "tensor([0., 0., 0.,  ..., 0., 0., 0.], dtype=torch.float64)\n"
     ]
    }
   ],
   "source": [
    "drug_mol2vec_sim_edge = get_edge(drug_mol2vec_sim)\n",
    "drug_mol2vec_sim_data = torch.tensor(drug_mol2vec_sim)\n",
    "\n",
    "print(drug_mol2vec_sim_edge.shape)\n",
    "print(drug_mol2vec_sim_edge[0])\n",
    "print(drug_mol2vec_sim_data.shape)\n",
    "print(drug_mol2vec_sim_data[0])\n",
    "\n",
    "\n",
    "rna_seq_sim_edge = get_edge(rna_seq_sim)\n",
    "rna_seq_sim_data = torch.tensor(rna_seq_sim)\n",
    "\n",
    "print(rna_seq_sim_edge.shape)\n",
    "print(rna_seq_sim_edge[0])\n",
    "print(rna_seq_sim_data.shape)\n",
    "print(rna_seq_sim_data[0])"
   ]
  },
  {
   "cell_type": "code",
   "execution_count": 18,
   "metadata": {},
   "outputs": [],
   "source": [
    "multiview_dataset = {\n",
    "    'md':old_dataset['md_p'],\n",
    "    'mm_func':{\n",
    "        'attr':old_dataset['mm']['data'],\n",
    "        'edge':old_dataset['mm']['edge_index']\n",
    "    },\n",
    "    'mm_seq':{\n",
    "        'attr':rna_seq_sim_data,\n",
    "        'edge':rna_seq_sim_edge\n",
    "    },\n",
    "    'dd_seq':{\n",
    "        'attr':old_dataset['dd']['data'],\n",
    "        'edge':old_dataset['dd']['edge_index']\n",
    "    },\n",
    "    'dd_mol':{\n",
    "        'attr':drug_mol2vec_sim_data,\n",
    "        'edge':drug_mol2vec_sim_edge\n",
    "    }\n",
    "}\n",
    "\n",
    "torch.save(multiview_dataset,\"/mnt/yzy/NIMCGCN/MultiView/multiview_dataset.pt\")"
   ]
  }
 ],
 "metadata": {
  "kernelspec": {
   "display_name": "torch18",
   "language": "python",
   "name": "python3"
  },
  "language_info": {
   "codemirror_mode": {
    "name": "ipython",
    "version": 3
   },
   "file_extension": ".py",
   "mimetype": "text/x-python",
   "name": "python",
   "nbconvert_exporter": "python",
   "pygments_lexer": "ipython3",
   "version": "3.8.10"
  },
  "orig_nbformat": 4
 },
 "nbformat": 4,
 "nbformat_minor": 2
}
