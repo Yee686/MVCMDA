{
 "cells": [
  {
   "cell_type": "code",
   "execution_count": 120,
   "metadata": {},
   "outputs": [],
   "source": [
    "import torch\n",
    "import numpy as np\n",
    "import pandas as pd\n",
    "import sklearn.metrics as mt\n",
    "import matplotlib.pyplot as plt\n",
    "import datetime"
   ]
  },
  {
   "attachments": {},
   "cell_type": "markdown",
   "metadata": {},
   "source": [
    "#### 1 数据加载和数据预处理"
   ]
  },
  {
   "cell_type": "code",
   "execution_count": 107,
   "metadata": {},
   "outputs": [
    {
     "name": "stdout",
     "output_type": "stream",
     "text": [
      "dict_keys(['md_p', 'md_true', 'mm', 'dd', 'fold_one_index', 'fold_zero_index'])\n",
      "dict_keys(['data', 'edge_index'])\n",
      "dict_keys(['md', 'mm', 'dd', 'fold_one_index', 'fold_zero_index'])\n",
      "torch.Size([1043, 2166])\n",
      "torch.Size([1043, 1043])\n",
      "torch.Size([2166, 2166])\n",
      "torch.Size([10, 2, 143])\n",
      "torch.Size([10, 2, 225771])\n"
     ]
    }
   ],
   "source": [
    "# 数据集加载 直接在GNN的数据集上修改 保证数据集的一致性\n",
    "dataset = torch.load('/mnt/yzy/NIMCGCN/new_dataset.pt')\n",
    "print(dataset.keys())\n",
    "print(dataset['mm'].keys())\n",
    "dataset = {\n",
    "    'md': dataset['md_true'],\n",
    "    'mm': dataset['mm']['data'],\n",
    "    'dd': dataset['dd']['data'],\n",
    "    'fold_one_index': dataset['fold_one_index'],\n",
    "    'fold_zero_index': dataset['fold_zero_index'],\n",
    "}\n",
    "print(dataset.keys())\n",
    "print(dataset['md'].shape)\n",
    "print(dataset['mm'].shape)\n",
    "print(dataset['dd'].shape)\n",
    "print(dataset['fold_one_index'].shape)\n",
    "print(dataset['fold_zero_index'].shape)"
   ]
  },
  {
   "cell_type": "code",
   "execution_count": 108,
   "metadata": {},
   "outputs": [
    {
     "name": "stdout",
     "output_type": "stream",
     "text": [
      "(1043, 2166)\n",
      "(1043, 1043)\n",
      "(2166, 2166)\n",
      "(10, 2, 143)\n",
      "(10, 2, 225771)\n"
     ]
    }
   ],
   "source": [
    "# 转为numpy ndarray\n",
    "md = dataset['md'].numpy()\n",
    "mm = dataset['mm'].numpy()\n",
    "dd = dataset['dd'].numpy()\n",
    "fold_one_index = dataset['fold_one_index'].numpy()\n",
    "fold_zero_index = dataset['fold_zero_index'].numpy()\n",
    "print(md.shape)\n",
    "print(mm.shape)\n",
    "print(dd.shape)\n",
    "print(fold_one_index.shape)\n",
    "print(fold_zero_index.shape)"
   ]
  },
  {
   "attachments": {},
   "cell_type": "markdown",
   "metadata": {},
   "source": [
    "#### 2 模型超参和实验设定"
   ]
  },
  {
   "cell_type": "code",
   "execution_count": 109,
   "metadata": {},
   "outputs": [],
   "source": [
    "# 实验方法 elemment-wise 10-fold cross validation\n",
    "# 数据划分 0/1元素 均匀划分到各个fold\n",
    "Kfold = 10      # Kfold 交叉验证数\n",
    "Kn = 7          # 使用Kn个最相似的邻居信息\n",
    "dim = 64        # embedding维度\n",
    "alpha = 0.9     # 使用Kn个最相似的邻居信息的衰减权重\n",
    "lambdl = 0.5    # 超参数lambda_l 正则化系数\n",
    "lambdm = 0.001      # 超参数lambda_m miRNA embedding正则化系数\n",
    "lambdd = 0.001      # 超参数lambda_d Drug embedding正则化系数\n",
    "threshold = 0.001   # 优化阈值\n",
    "max_epoch = 30     # 最大迭代次数\n",
    "\n",
    "mirns = 1043        # miRNA数\n",
    "drugs = 2166        # Drug数"
   ]
  },
  {
   "attachments": {},
   "cell_type": "markdown",
   "metadata": {},
   "source": [
    "#### 3 通过节点相似邻居信息，更新关联网络中无边的节点"
   ]
  },
  {
   "cell_type": "code",
   "execution_count": 110,
   "metadata": {},
   "outputs": [
    {
     "name": "stdout",
     "output_type": "stream",
     "text": [
      "(1043, 2166)\n",
      "2166\n",
      "1043\n",
      "(2031,)\n",
      "(598,)\n"
     ]
    }
   ],
   "source": [
    "print(md.shape)\n",
    "print(len(md.sum(axis=0)))\n",
    "print(len(md.sum(axis=1)))\n",
    "empty_drug_col = np.where(md.sum(axis=0) == 0)  # 没有drug信息的列\n",
    "empty_mir_row = np.where(md.sum(axis=1) == 0)   # 没有miRNA信息的行\n",
    "print(empty_drug_col[0].shape)  \n",
    "print(empty_mir_row[0].shape)\n",
    "\n",
    "empty_drug_col = empty_drug_col[0].tolist()\n",
    "empty_mir_row = empty_mir_row[0].tolist()"
   ]
  },
  {
   "cell_type": "code",
   "execution_count": 111,
   "metadata": {},
   "outputs": [],
   "source": [
    "alpha_decay = alpha**np.arange(0,Kn)\n",
    "update_mir_row = np.zeros_like(md)\n",
    "update_drug_col = np.zeros_like(md)\n",
    "\n",
    "# 更新全0行 miRNA视角\n",
    "for i in empty_mir_row:\n",
    "    # 取出空行miRNA的相似度\n",
    "    miRNA_sim = mm[i, :]\n",
    "    miRNA_sim[i] = 0\n",
    "\n",
    "    # 删除全0行的相似度 全零行对跟新无意义\n",
    "    miRNA_sim_full = np.delete(miRNA_sim, empty_mir_row)\n",
    "\n",
    "    # 删除全0行的index\n",
    "    index = np.arange(0, mirns)\n",
    "    index_full = np.delete(index, empty_mir_row)\n",
    "\n",
    "\n",
    "    # 取出相似度最高的Kn个有信息的miRNA\n",
    "    index_knn = np.argsort(-miRNA_sim_full)[0:Kn]\n",
    "    index = index_full[index_knn]\n",
    "\n",
    "    ww = (alpha_decay * miRNA_sim[index]).reshape(Kn,1)\n",
    "    ym = md[index, :]\n",
    "    wym = ym*ww\n",
    "    swym = np.sum(wym,axis=0)\n",
    "    zm = np.sum(ww)\n",
    "\n",
    "    if zm == 0:\n",
    "        ym = 0\n",
    "    elif zm != 0:\n",
    "        ym = swym/zm\n",
    "    \n",
    "    update_mir_row[i, :] = ym\n",
    "\n",
    "# 更新全0列 drug视角\n",
    "for i in empty_drug_col:\n",
    "    # 取出空列drug的相似度\n",
    "    drug_sim = dd[i, :]\n",
    "    drug_sim[i] = 0\n",
    "\n",
    "    # 删除全0列的相似度 全零列对跟新无意义\n",
    "    drug_sim_full = np.delete(drug_sim, empty_drug_col)\n",
    "\n",
    "    # 删除全0列的index\n",
    "    index = np.arange(0, drugs)\n",
    "    index_full = np.delete(index, empty_drug_col)\n",
    "\n",
    "\n",
    "    # 取出相似度最高的Kn个有信息的miRNA\n",
    "    index_knn = np.argsort(-drug_sim_full)[0:Kn]\n",
    "    index = index_full[index_knn]\n",
    "\n",
    "    uu = (alpha_decay * drug_sim[index]).reshape(1,Kn)\n",
    "    yd = md[:, index]\n",
    "    wyd = yd*uu\n",
    "    swyd = np.sum(wyd,axis=1)\n",
    "    zd = np.sum(uu)\n",
    "\n",
    "    if zd == 0:\n",
    "        yd = 0\n",
    "    elif zd != 0:\n",
    "        yd = swyd/zd\n",
    "    \n",
    "    update_mir_row[:, i] = yd\n",
    "\n",
    "updata_avg = (update_mir_row + update_drug_col)/2\n",
    "updated_md = np.maximum(md, updata_avg)"
   ]
  },
  {
   "cell_type": "code",
   "execution_count": 112,
   "metadata": {},
   "outputs": [
    {
     "name": "stdout",
     "output_type": "stream",
     "text": [
      "(1043, 2166)\n",
      "1430.0\n",
      "13272.824\n",
      "原有Drug 2166个,更新前无关联信息的Drug  598个,更新后无关联信息的Drug  4个\n",
      "原有miRNA 1043个,更新前无关联信息的miRNA 2031个,更新后无关联信息的miRNA  0个\n"
     ]
    }
   ],
   "source": [
    "print(updated_md.shape)\n",
    "print(md.sum(axis=0).sum())\n",
    "print(updated_md.sum(axis=0).sum())\n",
    "\n",
    "print(\"原有Drug{:5d}个,更新前无关联信息的Drug{:5d}个,更新后无关联信息的Drug{:3d}个\".format(np.array(updated_md.sum(axis=0) == 0).astype(int).shape[0],\\\n",
    "                                                                    len(empty_mir_row),np.array(updated_md.sum(axis=0) == 0).astype(int).sum()))\n",
    "print(\"原有miRNA{:5d}个,更新前无关联信息的miRNA{:5d}个,更新后无关联信息的miRNA{:3d}个\".format(np.array(updated_md.sum(axis=1) == 0).astype(int).shape[0],\\\n",
    "                                                                       len(empty_drug_col),np.array(updated_md.sum(axis=1) == 0).astype(int).sum()))"
   ]
  },
  {
   "attachments": {},
   "cell_type": "markdown",
   "metadata": {},
   "source": [
    "#### 4 矩阵分解获得节点嵌入"
   ]
  },
  {
   "cell_type": "code",
   "execution_count": 113,
   "metadata": {},
   "outputs": [
    {
     "name": "stdout",
     "output_type": "stream",
     "text": [
      "[[1 2 3]\n",
      " [4 5 6]\n",
      " [7 8 9]]\n"
     ]
    },
    {
     "data": {
      "text/plain": [
       "array([[ 6,  0,  0],\n",
       "       [ 0, 15,  0],\n",
       "       [ 0,  0, 24]])"
      ]
     },
     "execution_count": 113,
     "metadata": {},
     "output_type": "execute_result"
    }
   ],
   "source": [
    "def DiagonalSumMatrix(M):   # 返回矩阵M的对角和矩阵\n",
    "    rowsum = M.sum(axis=1)\n",
    "    D = np.diag(rowsum)\n",
    "    return D\n",
    "\n",
    "M = np.array([[1,2,3],[4,5,6],[7,8,9]])\n",
    "print(M)\n",
    "DiagonalSumMatrix(M) "
   ]
  },
  {
   "cell_type": "code",
   "execution_count": 114,
   "metadata": {},
   "outputs": [],
   "source": [
    "def MatrixFactorization(md, mm, dd, index):\n",
    "    # print(\"md:\",md.shape)\n",
    "    # print(\"mm:\",mm.shape)\n",
    "    # print(\"dd:\",dd.shape)\n",
    "    # print(\"mirna:\",mirns)\n",
    "    # print(\"drug:\",drugs)\n",
    "    # print(\"one_index:\",one_index.shape)\n",
    "    # print(\"zero_index:\",zero_index.shape)\n",
    "    embedding_mir = np.random.uniform(0, 1, (mirns, dim))       # miRNA embedding   A\n",
    "    embedding_drug = np.random.uniform(0, 1, (drugs, dim))      # Drug embedding    B\n",
    "\n",
    "    # print(\"A:\",embedding_mir.shape)\n",
    "    # print(\"B:\",embedding_drug.shape)\n",
    "\n",
    "    mm_dm = DiagonalSumMatrix(mm)    # miRNA相似度对角和矩阵    Dm\n",
    "    dd_dd = DiagonalSumMatrix(dd)    # Drug相似度对角和矩阵    Dd\n",
    "\n",
    "    # print(\"Dm:\",mm_dm.shape)\n",
    "    # print(\"Dd:\",dd_dd.shape)\n",
    "    \n",
    "\n",
    "    epoch = 1\n",
    "    while True:\n",
    "        # embedding_mir_old = np.copy(embedding_mir)\n",
    "        YB = md@embedding_drug\n",
    "        ABB = embedding_mir@embedding_drug.T@embedding_drug\n",
    "        lmSmA = lambdm*mm@embedding_mir\n",
    "        llA = lambdl*embedding_mir\n",
    "        lmDmA = lambdm*mm_dm@embedding_mir\n",
    "        mm_numerator = YB + lmSmA\n",
    "        mm_denominator = ABB + llA + lmDmA \n",
    "        \n",
    "        # embedding_drug_old = np.copy(embedding_drug)\n",
    "        YA = md.T@embedding_mir\n",
    "        BAA = embedding_drug@embedding_mir.T@embedding_mir\n",
    "        ldSdB = lambdm*dd@embedding_drug\n",
    "        llB = lambdl*embedding_drug\n",
    "        ldDdB = lambdm*dd_dd@embedding_drug\n",
    "        dd_numerator = YA + ldSdB\n",
    "        dd_denominator = BAA + llB + ldDdB\n",
    "\n",
    "        for i in range(0, mirns):\n",
    "            for j in range(0, dim):\n",
    "                if mm_denominator[i, j] == 0:\n",
    "                    embedding_mir[i, j] = 0\n",
    "                else:\n",
    "                    embedding_mir[i, j] *= mm_numerator[i, j]/mm_denominator[i, j]\n",
    "        # embedding_mir_diff = np.absolute(embedding_mir - embedding_mir_old)\n",
    "        \n",
    "        for i in range(0, drugs):\n",
    "            for j in range(0, dim):\n",
    "                if dd_denominator[i, j] == 0:\n",
    "                    embedding_drug[i, j] = 0\n",
    "                else:\n",
    "                    embedding_drug[i, j] *= dd_numerator[i, j]/dd_denominator[i, j]\n",
    "        # embedding_drug_diff = np.absolute(embedding_drug - embedding_drug_old)\n",
    "\n",
    "        Ystar = embedding_mir@embedding_drug.T\n",
    "        Y_diff = np.absolute(Ystar - md)[index[0],index[1]] # 取出训练集的loss\n",
    "\n",
    "        if epoch % 100 == 0:\n",
    "            print(\"epoch {}: elem average loss = {:4.8f}, max diff = {:4.8f}\".format(epoch, Y_diff.sum()/(mirns*drug_sim_full), Y_diff.max()))        \n",
    "        if Y_diff.max() < threshold or epoch > max_epoch:\n",
    "            break\n",
    "        epoch += 1\n",
    "        # if (np.max(embedding_mir_diff) < threshold and np.max(embedding_drug_diff) < threshold) or epoch > 500:\n",
    "        #     break\n",
    "            \n",
    "    return embedding_mir, embedding_drug, embedding_mir@embedding_drug.T\n",
    "        \n",
    "# A,B,Ystar = MatrixFactorization(md, mm, dd)"
   ]
  },
  {
   "attachments": {},
   "cell_type": "markdown",
   "metadata": {},
   "source": [
    "#### 5 交叉验证并评估模型"
   ]
  },
  {
   "cell_type": "code",
   "execution_count": 115,
   "metadata": {},
   "outputs": [
    {
     "name": "stdout",
     "output_type": "stream",
     "text": [
      "__________Fold  1__________\n",
      "Fold  1 auc score: 0.99994397\n",
      "__________Fold  2__________\n",
      "Fold  2 auc score: 0.99993551\n",
      "__________Fold  3__________\n",
      "Fold  3 auc score: 0.99989199\n",
      "__________Fold  4__________\n",
      "Fold  4 auc score: 0.99996051\n",
      "__________Fold  5__________\n",
      "Fold  5 auc score: 0.99680808\n",
      "__________Fold  6__________\n",
      "Fold  6 auc score: 0.99687089\n",
      "__________Fold  7__________\n",
      "Fold  7 auc score: 0.99567100\n",
      "__________Fold  8__________\n",
      "Fold  8 auc score: 0.99684568\n",
      "__________Fold  9__________\n",
      "Fold  9 auc score: 0.99990674\n",
      "__________Fold 10__________\n",
      "Fold 10 auc score: 0.99988862\n"
     ]
    }
   ],
   "source": [
    "label_pred = np.empty((mirns, drugs))\n",
    "for i in range(0, Kfold):\n",
    "    print(\"__________Fold {:2d}__________\".format(i+1))\n",
    "\n",
    "    train_elem_one_index = np.concatenate(([fold_one_index[j] for j in range(0,Kfold) if j != i]), axis=1)\n",
    "    train_elem_zero_index = np.concatenate(([fold_zero_index[j] for j in range(0,Kfold) if j != i]), axis=1)\n",
    "    \n",
    "    train_elem_index = np.concatenate((train_elem_one_index, train_elem_zero_index), axis=1)\n",
    "    val_elem_index = np.concatenate((fold_one_index[i], fold_zero_index[i]), axis=1)\n",
    "\n",
    "    A,B,Ystar = MatrixFactorization(md, mm, dd, train_elem_index)\n",
    "    label_pred[val_elem_index[0], val_elem_index[1]] = Ystar[val_elem_index[0], val_elem_index[1]]\n",
    "\n",
    "    score = mt.roc_auc_score(md[val_elem_index[0], val_elem_index[1]], label_pred[val_elem_index[0], val_elem_index[1]])\n",
    "    print(\"Fold {:2d} auc score: {:4.8f}\".format(i+1, score))"
   ]
  },
  {
   "cell_type": "code",
   "execution_count": 116,
   "metadata": {},
   "outputs": [
    {
     "name": "stdout",
     "output_type": "stream",
     "text": [
      "16432 0.007273570715910228\n",
      "Best threshold: 0.01\n",
      "0.9985710748226982\n"
     ]
    },
    {
     "data": {
      "image/png": "[encoded data removed]",
      "text/plain": [
       "<Figure size 432x288 with 1 Axes>"
      ]
     },
     "metadata": {
      "needs_background": "light"
     },
     "output_type": "display_data"
    }
   ],
   "source": [
    "score = label_pred.reshape(-1)\n",
    "label = md.reshape(-1)\n",
    "\n",
    "fpr, tpr, thresholds = mt.roc_curve(label, score)\n",
    "best_idx = np.argmax(tpr - fpr)\n",
    "best_threshold = thresholds[best_idx]\n",
    "\n",
    "# 将模型输出映射为二分类标签\n",
    "prediction = (score >= best_threshold).astype(int)\n",
    "print(sum(prediction),sum(prediction)/2259138)\n",
    "print(f'Best threshold: {best_threshold:.2f}')\n",
    "# 计算 AUC\n",
    "roc_auc = mt.auc(fpr, tpr)\n",
    "print(roc_auc)\n",
    "# 绘制 ROC 曲线\n",
    "plt.plot(fpr, tpr, color='darkorange', label=f'ROC curve (AUC = {roc_auc:.2f})')\n",
    "plt.plot([0, 1], [0, 1], color='navy', linestyle='--')\n",
    "plt.xlabel('False Positive Rate')\n",
    "plt.ylabel('True Positive Rate')\n",
    "plt.title('Receiver Operating Characteristic (ROC) Curve')\n",
    "plt.legend(loc='lower right')\n",
    "plt.show()"
   ]
  },
  {
   "cell_type": "code",
   "execution_count": 117,
   "metadata": {},
   "outputs": [
    {
     "name": "stdout",
     "output_type": "stream",
     "text": [
      "0.9609759553305203\n"
     ]
    },
    {
     "data": {
      "image/png": "[encoded data removed]",
      "text/plain": [
       "<Figure size 432x288 with 1 Axes>"
      ]
     },
     "metadata": {
      "needs_background": "light"
     },
     "output_type": "display_data"
    }
   ],
   "source": [
    "precision, recall, thresholds = mt.precision_recall_curve(label, score)\n",
    "aupr = mt.auc(recall, precision)\n",
    "print(aupr)\n",
    "plt.plot(recall, precision, label='AUPR = %.3f' % aupr)\n",
    "plt.fill_between(recall, precision, alpha=0.2)\n",
    "plt.xlabel('Recall')\n",
    "plt.ylabel('Precision')\n",
    "plt.ylim([0.0, 1.05])\n",
    "plt.xlim([0.0, 1.0])\n",
    "plt.title('Precision-Recall curve')\n",
    "plt.legend(loc='upper right')\n",
    "plt.show()"
   ]
  },
  {
   "cell_type": "code",
   "execution_count": 118,
   "metadata": {},
   "outputs": [
    {
     "data": {
      "image/png": "[encoded data removed]",
      "text/plain": [
       "<Figure size 432x288 with 2 Axes>"
      ]
     },
     "metadata": {
      "needs_background": "light"
     },
     "output_type": "display_data"
    }
   ],
   "source": [
    "cm = mt.confusion_matrix(label,prediction)\n",
    "disp = mt.ConfusionMatrixDisplay(confusion_matrix=cm, display_labels=['neg','pos'])\n",
    "disp.plot()\n",
    "plt.show()"
   ]
  },
  {
   "cell_type": "code",
   "execution_count": 122,
   "metadata": {},
   "outputs": [],
   "source": [
    "today = datetime.date.today().strftime(\"%Y%m%d\")[2:]\n",
    "np.save('/mnt/yzy/NIMCGCN/Prediction/MF/NMF_KNN_{}fold_{}.ipynb'.format(Kfold, today), score)"
   ]
  }
 ],
 "metadata": {
  "kernelspec": {
   "display_name": "torch18",
   "language": "python",
   "name": "python3"
  },
  "language_info": {
   "codemirror_mode": {
    "name": "ipython",
    "version": 3
   },
   "file_extension": ".py",
   "mimetype": "text/x-python",
   "name": "python",
   "nbconvert_exporter": "python",
   "pygments_lexer": "ipython3",
   "version": "3.8.10"
  },
  "orig_nbformat": 4
 },
 "nbformat": 4,
 "nbformat_minor": 2
}
