{
 "cells": [
  {
   "cell_type": "code",
   "execution_count": 2,
   "metadata": {},
   "outputs": [],
   "source": [
    "import numpy as np\n",
    "import pandas as pd\n",
    "from sklearn.decomposition import NMF\n",
    "from sklearn.model_selection import train_test_split\n",
    "from sklearn.linear_model import LogisticRegression"
   ]
  },
  {
   "cell_type": "code",
   "execution_count": 3,
   "metadata": {},
   "outputs": [],
   "source": [
    "import torch\n",
    "import numpy as np\n",
    "import pandas as pd\n",
    "import sklearn.metrics as mt\n",
    "import matplotlib.pyplot as plt\n",
    "import datetime"
   ]
  },
  {
   "cell_type": "code",
   "execution_count": 4,
   "metadata": {},
   "outputs": [
    {
     "name": "stdout",
     "output_type": "stream",
     "text": [
      "dict_keys(['md_p', 'md_true', 'mm', 'dd', 'fold_one_index', 'fold_zero_index'])\n",
      "dict_keys(['data', 'edge_index'])\n",
      "dict_keys(['md', 'mm', 'dd', 'fold_one_index', 'fold_zero_index'])\n",
      "torch.Size([1043, 2166])\n",
      "torch.Size([1043, 1043])\n",
      "torch.Size([2166, 2166])\n",
      "torch.Size([10, 2, 143])\n",
      "torch.Size([10, 2, 225771])\n"
     ]
    }
   ],
   "source": [
    "# 数据集加载 直接在GNN的数据集上修改 保证数据集的一致性\n",
    "dataset = torch.load('/mnt/yzy/NIMCGCN/new_dataset.pt')\n",
    "print(dataset.keys())\n",
    "print(dataset['mm'].keys())\n",
    "dataset = {\n",
    "    'md': dataset['md_true'],\n",
    "    'mm': dataset['mm']['data'],\n",
    "    'dd': dataset['dd']['data'],\n",
    "    'fold_one_index': dataset['fold_one_index'],\n",
    "    'fold_zero_index': dataset['fold_zero_index'],\n",
    "}\n",
    "print(dataset.keys())\n",
    "print(dataset['md'].shape)\n",
    "print(dataset['mm'].shape)\n",
    "print(dataset['dd'].shape)\n",
    "print(dataset['fold_one_index'].shape)\n",
    "print(dataset['fold_zero_index'].shape)"
   ]
  },
  {
   "cell_type": "code",
   "execution_count": 5,
   "metadata": {},
   "outputs": [
    {
     "name": "stdout",
     "output_type": "stream",
     "text": [
      "(1043, 2166)\n",
      "(1043, 1043)\n",
      "(2166, 2166)\n",
      "(10, 2, 143)\n",
      "(10, 2, 225771)\n"
     ]
    }
   ],
   "source": [
    "# 转为numpy ndarray\n",
    "md = dataset['md'].numpy()\n",
    "mm = dataset['mm'].numpy()\n",
    "dd = dataset['dd'].numpy()\n",
    "fold_one_index = dataset['fold_one_index'].numpy()\n",
    "fold_zero_index = dataset['fold_zero_index'].numpy()\n",
    "print(md.shape)\n",
    "print(mm.shape)\n",
    "print(dd.shape)\n",
    "print(fold_one_index.shape)\n",
    "print(fold_zero_index.shape)"
   ]
  },
  {
   "cell_type": "code",
   "execution_count": 12,
   "metadata": {},
   "outputs": [
    {
     "name": "stdout",
     "output_type": "stream",
     "text": [
      "(1043, 2166)\n"
     ]
    },
    {
     "name": "stderr",
     "output_type": "stream",
     "text": [
      "/tmp/ipykernel_14268/875305753.py:24: DeprecationWarning: Use of `minimize` with `x0.ndim != 1` is deprecated. Currently, singleton dimensions will be removed from `x0`, but an error will be raised in SciPy 1.11.0.\n",
      "  result = minimize(objective_function, X_init, method='CG')\n"
     ]
    },
    {
     "ename": "MemoryError",
     "evalue": "Unable to allocate 37.1 TiB for an array with shape (2259138, 2259138) and data type float64",
     "output_type": "error",
     "traceback": [
      "\u001b[0;31m---------------------------------------------------------------------------\u001b[0m",
      "\u001b[0;31mMemoryError\u001b[0m                               Traceback (most recent call last)",
      "\u001b[1;32m/mnt/yzy/NIMCGCN/MatrixFactorization/KernalFMF.ipynb 单元格 5\u001b[0m in \u001b[0;36m<cell line: 36>\u001b[0;34m()\u001b[0m\n\u001b[1;32m     <a href='vscode-notebook-cell://ssh-remote%2Bbbdm.hzau.edu.cn/mnt/yzy/NIMCGCN/MatrixFactorization/KernalFMF.ipynb#W4sdnNjb2RlLXJlbW90ZQ%3D%3D?line=33'>34</a>\u001b[0m \u001b[39m# 进行矩阵补全\u001b[39;00m\n\u001b[1;32m     <a href='vscode-notebook-cell://ssh-remote%2Bbbdm.hzau.edu.cn/mnt/yzy/NIMCGCN/MatrixFactorization/KernalFMF.ipynb#W4sdnNjb2RlLXJlbW90ZQ%3D%3D?line=34'>35</a>\u001b[0m rank \u001b[39m=\u001b[39m \u001b[39m2\u001b[39m  \u001b[39m# 低秩矩阵的秩\u001b[39;00m\n\u001b[0;32m---> <a href='vscode-notebook-cell://ssh-remote%2Bbbdm.hzau.edu.cn/mnt/yzy/NIMCGCN/MatrixFactorization/KernalFMF.ipynb#W4sdnNjb2RlLXJlbW90ZQ%3D%3D?line=35'>36</a>\u001b[0m X_completed \u001b[39m=\u001b[39m matrix_completion(X_observed, rank)\n\u001b[1;32m     <a href='vscode-notebook-cell://ssh-remote%2Bbbdm.hzau.edu.cn/mnt/yzy/NIMCGCN/MatrixFactorization/KernalFMF.ipynb#W4sdnNjb2RlLXJlbW90ZQ%3D%3D?line=37'>38</a>\u001b[0m \u001b[39mprint\u001b[39m(\u001b[39m\"\u001b[39m\u001b[39m补全后的矩阵:\u001b[39m\u001b[39m\"\u001b[39m)\n\u001b[1;32m     <a href='vscode-notebook-cell://ssh-remote%2Bbbdm.hzau.edu.cn/mnt/yzy/NIMCGCN/MatrixFactorization/KernalFMF.ipynb#W4sdnNjb2RlLXJlbW90ZQ%3D%3D?line=38'>39</a>\u001b[0m \u001b[39mprint\u001b[39m(X_completed)\n",
      "\u001b[1;32m/mnt/yzy/NIMCGCN/MatrixFactorization/KernalFMF.ipynb 单元格 5\u001b[0m in \u001b[0;36mmatrix_completion\u001b[0;34m(X_observed, rank)\u001b[0m\n\u001b[1;32m     <a href='vscode-notebook-cell://ssh-remote%2Bbbdm.hzau.edu.cn/mnt/yzy/NIMCGCN/MatrixFactorization/KernalFMF.ipynb#W4sdnNjb2RlLXJlbW90ZQ%3D%3D?line=20'>21</a>\u001b[0m X_init \u001b[39m=\u001b[39m np\u001b[39m.\u001b[39mrandom\u001b[39m.\u001b[39mrand(\u001b[39m*\u001b[39mX_observed\u001b[39m.\u001b[39mshape)\n\u001b[1;32m     <a href='vscode-notebook-cell://ssh-remote%2Bbbdm.hzau.edu.cn/mnt/yzy/NIMCGCN/MatrixFactorization/KernalFMF.ipynb#W4sdnNjb2RlLXJlbW90ZQ%3D%3D?line=22'>23</a>\u001b[0m \u001b[39m# 使用优化算法进行核范数最小化\u001b[39;00m\n\u001b[0;32m---> <a href='vscode-notebook-cell://ssh-remote%2Bbbdm.hzau.edu.cn/mnt/yzy/NIMCGCN/MatrixFactorization/KernalFMF.ipynb#W4sdnNjb2RlLXJlbW90ZQ%3D%3D?line=23'>24</a>\u001b[0m result \u001b[39m=\u001b[39m minimize(objective_function, X_init, method\u001b[39m=\u001b[39;49m\u001b[39m'\u001b[39;49m\u001b[39mCG\u001b[39;49m\u001b[39m'\u001b[39;49m)\n\u001b[1;32m     <a href='vscode-notebook-cell://ssh-remote%2Bbbdm.hzau.edu.cn/mnt/yzy/NIMCGCN/MatrixFactorization/KernalFMF.ipynb#W4sdnNjb2RlLXJlbW90ZQ%3D%3D?line=24'>25</a>\u001b[0m X_completed \u001b[39m=\u001b[39m result\u001b[39m.\u001b[39mx\u001b[39m.\u001b[39mreshape(X_observed\u001b[39m.\u001b[39mshape)\n\u001b[1;32m     <a href='vscode-notebook-cell://ssh-remote%2Bbbdm.hzau.edu.cn/mnt/yzy/NIMCGCN/MatrixFactorization/KernalFMF.ipynb#W4sdnNjb2RlLXJlbW90ZQ%3D%3D?line=26'>27</a>\u001b[0m \u001b[39mreturn\u001b[39;00m X_completed\n",
      "File \u001b[0;32m~/anaconda3/envs/torch200/lib/python3.8/site-packages/scipy/optimize/_minimize.py:692\u001b[0m, in \u001b[0;36mminimize\u001b[0;34m(fun, x0, args, method, jac, hess, hessp, bounds, constraints, tol, callback, options)\u001b[0m\n\u001b[1;32m    690\u001b[0m     res \u001b[39m=\u001b[39m _minimize_powell(fun, x0, args, callback, bounds, \u001b[39m*\u001b[39m\u001b[39m*\u001b[39moptions)\n\u001b[1;32m    691\u001b[0m \u001b[39melif\u001b[39;00m meth \u001b[39m==\u001b[39m \u001b[39m'\u001b[39m\u001b[39mcg\u001b[39m\u001b[39m'\u001b[39m:\n\u001b[0;32m--> 692\u001b[0m     res \u001b[39m=\u001b[39m _minimize_cg(fun, x0, args, jac, callback, \u001b[39m*\u001b[39;49m\u001b[39m*\u001b[39;49moptions)\n\u001b[1;32m    693\u001b[0m \u001b[39melif\u001b[39;00m meth \u001b[39m==\u001b[39m \u001b[39m'\u001b[39m\u001b[39mbfgs\u001b[39m\u001b[39m'\u001b[39m:\n\u001b[1;32m    694\u001b[0m     res \u001b[39m=\u001b[39m _minimize_bfgs(fun, x0, args, jac, callback, \u001b[39m*\u001b[39m\u001b[39m*\u001b[39moptions)\n",
      "File \u001b[0;32m~/anaconda3/envs/torch200/lib/python3.8/site-packages/scipy/optimize/_optimize.py:1596\u001b[0m, in \u001b[0;36m_minimize_cg\u001b[0;34m(fun, x0, args, jac, callback, gtol, norm, eps, maxiter, disp, return_all, finite_diff_rel_step, **unknown_options)\u001b[0m\n\u001b[1;32m   1593\u001b[0m \u001b[39mif\u001b[39;00m maxiter \u001b[39mis\u001b[39;00m \u001b[39mNone\u001b[39;00m:\n\u001b[1;32m   1594\u001b[0m     maxiter \u001b[39m=\u001b[39m \u001b[39mlen\u001b[39m(x0) \u001b[39m*\u001b[39m \u001b[39m200\u001b[39m\n\u001b[0;32m-> 1596\u001b[0m sf \u001b[39m=\u001b[39m _prepare_scalar_function(fun, x0, jac\u001b[39m=\u001b[39;49mjac, args\u001b[39m=\u001b[39;49margs, epsilon\u001b[39m=\u001b[39;49meps,\n\u001b[1;32m   1597\u001b[0m                               finite_diff_rel_step\u001b[39m=\u001b[39;49mfinite_diff_rel_step)\n\u001b[1;32m   1599\u001b[0m f \u001b[39m=\u001b[39m sf\u001b[39m.\u001b[39mfun\n\u001b[1;32m   1600\u001b[0m myfprime \u001b[39m=\u001b[39m sf\u001b[39m.\u001b[39mgrad\n",
      "File \u001b[0;32m~/anaconda3/envs/torch200/lib/python3.8/site-packages/scipy/optimize/_optimize.py:263\u001b[0m, in \u001b[0;36m_prepare_scalar_function\u001b[0;34m(fun, x0, jac, args, bounds, epsilon, finite_diff_rel_step, hess)\u001b[0m\n\u001b[1;32m    259\u001b[0m     bounds \u001b[39m=\u001b[39m (\u001b[39m-\u001b[39mnp\u001b[39m.\u001b[39minf, np\u001b[39m.\u001b[39minf)\n\u001b[1;32m    261\u001b[0m \u001b[39m# ScalarFunction caches. Reuse of fun(x) during grad\u001b[39;00m\n\u001b[1;32m    262\u001b[0m \u001b[39m# calculation reduces overall function evaluations.\u001b[39;00m\n\u001b[0;32m--> 263\u001b[0m sf \u001b[39m=\u001b[39m ScalarFunction(fun, x0, args, grad, hess,\n\u001b[1;32m    264\u001b[0m                     finite_diff_rel_step, bounds, epsilon\u001b[39m=\u001b[39;49mepsilon)\n\u001b[1;32m    266\u001b[0m \u001b[39mreturn\u001b[39;00m sf\n",
      "File \u001b[0;32m~/anaconda3/envs/torch200/lib/python3.8/site-packages/scipy/optimize/_differentiable_functions.py:177\u001b[0m, in \u001b[0;36mScalarFunction.__init__\u001b[0;34m(self, fun, x0, args, grad, hess, finite_diff_rel_step, finite_diff_bounds, epsilon)\u001b[0m\n\u001b[1;32m    173\u001b[0m         \u001b[39mself\u001b[39m\u001b[39m.\u001b[39mg \u001b[39m=\u001b[39m approx_derivative(fun_wrapped, \u001b[39mself\u001b[39m\u001b[39m.\u001b[39mx, f0\u001b[39m=\u001b[39m\u001b[39mself\u001b[39m\u001b[39m.\u001b[39mf,\n\u001b[1;32m    174\u001b[0m                                    \u001b[39m*\u001b[39m\u001b[39m*\u001b[39mfinite_diff_options)\n\u001b[1;32m    176\u001b[0m \u001b[39mself\u001b[39m\u001b[39m.\u001b[39m_update_grad_impl \u001b[39m=\u001b[39m update_grad\n\u001b[0;32m--> 177\u001b[0m \u001b[39mself\u001b[39;49m\u001b[39m.\u001b[39;49m_update_grad()\n\u001b[1;32m    179\u001b[0m \u001b[39m# Hessian Evaluation\u001b[39;00m\n\u001b[1;32m    180\u001b[0m \u001b[39mif\u001b[39;00m \u001b[39mcallable\u001b[39m(hess):\n",
      "File \u001b[0;32m~/anaconda3/envs/torch200/lib/python3.8/site-packages/scipy/optimize/_differentiable_functions.py:256\u001b[0m, in \u001b[0;36mScalarFunction._update_grad\u001b[0;34m(self)\u001b[0m\n\u001b[1;32m    254\u001b[0m \u001b[39mdef\u001b[39;00m \u001b[39m_update_grad\u001b[39m(\u001b[39mself\u001b[39m):\n\u001b[1;32m    255\u001b[0m     \u001b[39mif\u001b[39;00m \u001b[39mnot\u001b[39;00m \u001b[39mself\u001b[39m\u001b[39m.\u001b[39mg_updated:\n\u001b[0;32m--> 256\u001b[0m         \u001b[39mself\u001b[39;49m\u001b[39m.\u001b[39;49m_update_grad_impl()\n\u001b[1;32m    257\u001b[0m         \u001b[39mself\u001b[39m\u001b[39m.\u001b[39mg_updated \u001b[39m=\u001b[39m \u001b[39mTrue\u001b[39;00m\n",
      "File \u001b[0;32m~/anaconda3/envs/torch200/lib/python3.8/site-packages/scipy/optimize/_differentiable_functions.py:173\u001b[0m, in \u001b[0;36mScalarFunction.__init__.<locals>.update_grad\u001b[0;34m()\u001b[0m\n\u001b[1;32m    171\u001b[0m \u001b[39mself\u001b[39m\u001b[39m.\u001b[39m_update_fun()\n\u001b[1;32m    172\u001b[0m \u001b[39mself\u001b[39m\u001b[39m.\u001b[39mngev \u001b[39m+\u001b[39m\u001b[39m=\u001b[39m \u001b[39m1\u001b[39m\n\u001b[0;32m--> 173\u001b[0m \u001b[39mself\u001b[39m\u001b[39m.\u001b[39mg \u001b[39m=\u001b[39m approx_derivative(fun_wrapped, \u001b[39mself\u001b[39;49m\u001b[39m.\u001b[39;49mx, f0\u001b[39m=\u001b[39;49m\u001b[39mself\u001b[39;49m\u001b[39m.\u001b[39;49mf,\n\u001b[1;32m    174\u001b[0m                            \u001b[39m*\u001b[39;49m\u001b[39m*\u001b[39;49mfinite_diff_options)\n",
      "File \u001b[0;32m~/anaconda3/envs/torch200/lib/python3.8/site-packages/scipy/optimize/_numdiff.py:505\u001b[0m, in \u001b[0;36mapprox_derivative\u001b[0;34m(fun, x0, method, rel_step, abs_step, f0, bounds, sparsity, as_linear_operator, args, kwargs)\u001b[0m\n\u001b[1;32m    502\u001b[0m     use_one_sided \u001b[39m=\u001b[39m \u001b[39mFalse\u001b[39;00m\n\u001b[1;32m    504\u001b[0m \u001b[39mif\u001b[39;00m sparsity \u001b[39mis\u001b[39;00m \u001b[39mNone\u001b[39;00m:\n\u001b[0;32m--> 505\u001b[0m     \u001b[39mreturn\u001b[39;00m _dense_difference(fun_wrapped, x0, f0, h,\n\u001b[1;32m    506\u001b[0m                              use_one_sided, method)\n\u001b[1;32m    507\u001b[0m \u001b[39melse\u001b[39;00m:\n\u001b[1;32m    508\u001b[0m     \u001b[39mif\u001b[39;00m \u001b[39mnot\u001b[39;00m issparse(sparsity) \u001b[39mand\u001b[39;00m \u001b[39mlen\u001b[39m(sparsity) \u001b[39m==\u001b[39m \u001b[39m2\u001b[39m:\n",
      "File \u001b[0;32m~/anaconda3/envs/torch200/lib/python3.8/site-packages/scipy/optimize/_numdiff.py:570\u001b[0m, in \u001b[0;36m_dense_difference\u001b[0;34m(fun, x0, f0, h, use_one_sided, method)\u001b[0m\n\u001b[1;32m    568\u001b[0m n \u001b[39m=\u001b[39m x0\u001b[39m.\u001b[39msize\n\u001b[1;32m    569\u001b[0m J_transposed \u001b[39m=\u001b[39m np\u001b[39m.\u001b[39mempty((n, m))\n\u001b[0;32m--> 570\u001b[0m h_vecs \u001b[39m=\u001b[39m np\u001b[39m.\u001b[39;49mdiag(h)\n\u001b[1;32m    572\u001b[0m \u001b[39mfor\u001b[39;00m i \u001b[39min\u001b[39;00m \u001b[39mrange\u001b[39m(h\u001b[39m.\u001b[39msize):\n\u001b[1;32m    573\u001b[0m     \u001b[39mif\u001b[39;00m method \u001b[39m==\u001b[39m \u001b[39m'\u001b[39m\u001b[39m2-point\u001b[39m\u001b[39m'\u001b[39m:\n",
      "File \u001b[0;32m<__array_function__ internals>:200\u001b[0m, in \u001b[0;36mdiag\u001b[0;34m(*args, **kwargs)\u001b[0m\n",
      "File \u001b[0;32m~/anaconda3/envs/torch200/lib/python3.8/site-packages/numpy/lib/twodim_base.py:299\u001b[0m, in \u001b[0;36mdiag\u001b[0;34m(v, k)\u001b[0m\n\u001b[1;32m    297\u001b[0m \u001b[39mif\u001b[39;00m \u001b[39mlen\u001b[39m(s) \u001b[39m==\u001b[39m \u001b[39m1\u001b[39m:\n\u001b[1;32m    298\u001b[0m     n \u001b[39m=\u001b[39m s[\u001b[39m0\u001b[39m]\u001b[39m+\u001b[39m\u001b[39mabs\u001b[39m(k)\n\u001b[0;32m--> 299\u001b[0m     res \u001b[39m=\u001b[39m zeros((n, n), v\u001b[39m.\u001b[39;49mdtype)\n\u001b[1;32m    300\u001b[0m     \u001b[39mif\u001b[39;00m k \u001b[39m>\u001b[39m\u001b[39m=\u001b[39m \u001b[39m0\u001b[39m:\n\u001b[1;32m    301\u001b[0m         i \u001b[39m=\u001b[39m k\n",
      "\u001b[0;31mMemoryError\u001b[0m: Unable to allocate 37.1 TiB for an array with shape (2259138, 2259138) and data type float64"
     ]
    }
   ],
   "source": [
    "import numpy as np\n",
    "from scipy.optimize import minimize\n",
    "\n",
    "def matrix_completion(X_observed, rank):\n",
    "    # X_observed: 已知的md关联数据矩阵\n",
    "    # rank: 低秩矩阵的秩\n",
    "    \n",
    "    # 定义优化目标函数\n",
    "    def objective_function(X):\n",
    "        # 将矩阵X分解为两个低秩矩阵U和V的乘积\n",
    "        U, S, V = np.linalg.svd(X.reshape(X_observed.shape))\n",
    "        U = U[:, :rank]\n",
    "        S = np.diag(S[:rank])\n",
    "        V = V[:rank, :]\n",
    "        \n",
    "        # 计算核范数最小化目标函数的值\n",
    "        loss = np.linalg.norm(X_observed - U @ S @ V, ord='fro')**2\n",
    "        return loss\n",
    "    \n",
    "    # 初始化未知值的矩阵\n",
    "    X_init = np.random.rand(*X_observed.shape)\n",
    "    \n",
    "    # 使用优化算法进行核范数最小化\n",
    "    result = minimize(objective_function, X_init, method='CG')\n",
    "    X_completed = result.x.reshape(X_observed.shape)\n",
    "    \n",
    "    return X_completed\n",
    "\n",
    "# 示例用法\n",
    "# 假设已知的md关联数据矩阵为X_observed\n",
    "X_observed = md\n",
    "print(X_observed.shape)\n",
    "\n",
    "# 进行矩阵补全\n",
    "rank = 2  # 低秩矩阵的秩\n",
    "X_completed = matrix_completion(X_observed, rank)\n",
    "\n",
    "print(\"补全后的矩阵:\")\n",
    "print(X_completed)\n"
   ]
  },
  {
   "cell_type": "code",
   "execution_count": 22,
   "metadata": {},
   "outputs": [
    {
     "name": "stdout",
     "output_type": "stream",
     "text": [
      "1080750 0.4783904303322772\n",
      "Best threshold: 0.03\n",
      "0.6426729954833456\n"
     ]
    },
    {
     "data": {
      "image/png": "[encoded data removed]",
      "text/plain": [
       "<Figure size 432x288 with 1 Axes>"
      ]
     },
     "metadata": {
      "needs_background": "light"
     },
     "output_type": "display_data"
    }
   ],
   "source": [
    "score = X_completed.reshape(-1)\n",
    "label = md.reshape(-1)\n",
    "\n",
    "fpr, tpr, thresholds = mt.roc_curve(label, score)\n",
    "best_idx = np.argmax(tpr - fpr)\n",
    "best_threshold = thresholds[best_idx]\n",
    "\n",
    "# 将模型输出映射为二分类标签\n",
    "prediction = (score >= best_threshold).astype(int)\n",
    "print(sum(prediction),sum(prediction)/2259138)\n",
    "print(f'Best threshold: {best_threshold:.2f}')\n",
    "# 计算 AUC\n",
    "roc_auc = mt.auc(fpr, tpr)\n",
    "print(roc_auc)\n",
    "# 绘制 ROC 曲线\n",
    "plt.plot(fpr, tpr, color='darkorange', label=f'ROC curve (AUC = {roc_auc:.2f})')\n",
    "plt.plot([0, 1], [0, 1], color='navy', linestyle='--')\n",
    "plt.xlabel('False Positive Rate')\n",
    "plt.ylabel('True Positive Rate')\n",
    "plt.title('Receiver Operating Characteristic (ROC) Curve')\n",
    "plt.legend(loc='lower right')\n",
    "plt.show()"
   ]
  },
  {
   "cell_type": "code",
   "execution_count": 23,
   "metadata": {},
   "outputs": [
    {
     "name": "stdout",
     "output_type": "stream",
     "text": [
      "0.0008783877653982475\n"
     ]
    },
    {
     "data": {
      "image/png": "[encoded data removed]",
      "text/plain": [
       "<Figure size 432x288 with 1 Axes>"
      ]
     },
     "metadata": {
      "needs_background": "light"
     },
     "output_type": "display_data"
    }
   ],
   "source": [
    "precision, recall, thresholds = mt.precision_recall_curve(label, score)\n",
    "aupr = mt.auc(recall, precision)\n",
    "print(aupr)\n",
    "plt.plot(recall, precision, label='AUPR = %.3f' % aupr)\n",
    "plt.fill_between(recall, precision, alpha=0.2)\n",
    "plt.xlabel('Recall')\n",
    "plt.ylabel('Precision')\n",
    "plt.ylim([0.0, 1.05])\n",
    "plt.xlim([0.0, 1.0])\n",
    "plt.title('Precision-Recall curve')\n",
    "plt.legend(loc='upper right')\n",
    "plt.show()"
   ]
  },
  {
   "cell_type": "code",
   "execution_count": 24,
   "metadata": {},
   "outputs": [
    {
     "data": {
      "image/png": "[encoded data removed]",
      "text/plain": [
       "<Figure size 432x288 with 2 Axes>"
      ]
     },
     "metadata": {
      "needs_background": "light"
     },
     "output_type": "display_data"
    }
   ],
   "source": [
    "cm = mt.confusion_matrix(label,prediction)\n",
    "disp = mt.ConfusionMatrixDisplay(confusion_matrix=cm, display_labels=['neg','pos'])\n",
    "disp.plot()\n",
    "plt.show()"
   ]
  }
 ],
 "metadata": {
  "kernelspec": {
   "display_name": "torch18",
   "language": "python",
   "name": "python3"
  },
  "language_info": {
   "codemirror_mode": {
    "name": "ipython",
    "version": 3
   },
   "file_extension": ".py",
   "mimetype": "text/x-python",
   "name": "python",
   "nbconvert_exporter": "python",
   "pygments_lexer": "ipython3",
   "version": "3.8.16"
  },
  "orig_nbformat": 4
 },
 "nbformat": 4,
 "nbformat_minor": 2
}
