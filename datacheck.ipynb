{
 "cells": [
  {
   "cell_type": "code",
   "execution_count": 2,
   "metadata": {},
   "outputs": [],
   "source": [
    "import torch"
   ]
  },
  {
   "cell_type": "code",
   "execution_count": 3,
   "metadata": {},
   "outputs": [
    {
     "data": {
      "text/plain": [
       "{'md_p': tensor([[0., 0., 0.,  ..., 0., 0., 0.],\n",
       "         [0., 0., 0.,  ..., 0., 0., 0.],\n",
       "         [0., 0., 0.,  ..., 0., 0., 0.],\n",
       "         ...,\n",
       "         [0., 0., 0.,  ..., 0., 0., 0.],\n",
       "         [0., 0., 0.,  ..., 0., 0., 0.],\n",
       "         [0., 0., 0.,  ..., 0., 0., 0.]]),\n",
       " 'md_true': tensor([[0., 0., 0.,  ..., 0., 0., 0.],\n",
       "         [0., 0., 0.,  ..., 0., 0., 0.],\n",
       "         [0., 0., 0.,  ..., 0., 0., 0.],\n",
       "         ...,\n",
       "         [0., 0., 0.,  ..., 0., 0., 0.],\n",
       "         [0., 0., 0.,  ..., 0., 0., 0.],\n",
       "         [0., 0., 0.,  ..., 0., 0., 0.]]),\n",
       " 'fold_index': array([[[ 771, 1019],\n",
       "         [ 292, 1395],\n",
       "         [ 757,  294],\n",
       "         ...,\n",
       "         [ 322, 1265],\n",
       "         [  36, 1454],\n",
       "         [ 333,  294]],\n",
       " \n",
       "        [[ 858,  294],\n",
       "         [ 312, 1285],\n",
       "         [ 200,  686],\n",
       "         ...,\n",
       "         [ 324,  294],\n",
       "         [ 298, 1094],\n",
       "         [ 502, 1395]],\n",
       " \n",
       "        [[ 353, 1453],\n",
       "         [  18, 1094],\n",
       "         [ 719, 1015],\n",
       "         ...,\n",
       "         [ 838,  674],\n",
       "         [ 574, 1285],\n",
       "         [ 195, 1019]],\n",
       " \n",
       "        ...,\n",
       " \n",
       "        [[ 866, 1094],\n",
       "         [ 330, 1454],\n",
       "         [ 209, 1094],\n",
       "         ...,\n",
       "         [ 183, 1019],\n",
       "         [ 267,  262],\n",
       "         [ 906,  864]],\n",
       " \n",
       "        [[ 431,  294],\n",
       "         [ 287, 1395],\n",
       "         [ 906,  294],\n",
       "         ...,\n",
       "         [ 223,  294],\n",
       "         [ 176,  674],\n",
       "         [   9,  378]],\n",
       " \n",
       "        [[1022, 1149],\n",
       "         [ 861,  674],\n",
       "         [ 587, 1141],\n",
       "         ...,\n",
       "         [  14, 1453],\n",
       "         [ 366,  262],\n",
       "         [ 345, 1285]]]),\n",
       " 'dd': {'data': tensor([[1.0000, 0.4688, 0.4911,  ..., 0.3740, 0.3783, 0.1270],\n",
       "          [0.4688, 1.0000, 0.6596,  ..., 0.4844, 0.4844, 0.0833],\n",
       "          [0.4911, 0.6596, 1.0000,  ..., 0.4531, 0.4531, 0.1224],\n",
       "          ...,\n",
       "          [0.3740, 0.4844, 0.4531,  ..., 1.0000, 0.3168, 0.1250],\n",
       "          [0.3783, 0.4844, 0.4531,  ..., 0.3168, 1.0000, 0.1250],\n",
       "          [0.1270, 0.0833, 0.1224,  ..., 0.1250, 0.1250, 1.0000]]),\n",
       "  'edge_index': tensor([[   0,    0,    0,  ..., 2165, 2165, 2165],\n",
       "          [   0,    1,    2,  ..., 2163, 2164, 2165]])},\n",
       " 'mm': {'data': tensor([[1.0000e+00, 4.7607e-01, 4.3590e-01,  ..., 6.1328e-01, 4.3924e-01,\n",
       "           1.3528e-02],\n",
       "          [4.7607e-01, 1.0000e+00, 6.5184e-01,  ..., 5.3324e-01, 4.1923e-01,\n",
       "           1.0196e-02],\n",
       "          [4.3590e-01, 6.5184e-01, 1.0000e+00,  ..., 5.5158e-01, 4.0210e-01,\n",
       "           1.9932e-03],\n",
       "          ...,\n",
       "          [6.1328e-01, 5.3324e-01, 5.5158e-01,  ..., 1.0000e+00, 5.4677e-01,\n",
       "           3.5200e-05],\n",
       "          [4.3924e-01, 4.1923e-01, 4.0210e-01,  ..., 5.4677e-01, 1.0000e+00,\n",
       "           9.1905e-04],\n",
       "          [1.3528e-02, 1.0196e-02, 1.9932e-03,  ..., 3.5200e-05, 9.1905e-04,\n",
       "           1.0000e+00]]),\n",
       "  'edge_index': tensor([[   0,    0,    0,  ..., 1042, 1042, 1042],\n",
       "          [   0,    1,    2,  ..., 1040, 1041, 1042]])}}"
      ]
     },
     "execution_count": 3,
     "metadata": {},
     "output_type": "execute_result"
    }
   ],
   "source": [
    "dataset = torch.load(\"/mnt/yzy/NIMCGCN/NIMCcode/dataset.pt\")\n",
    "dataset"
   ]
  },
  {
   "cell_type": "code",
   "execution_count": 4,
   "metadata": {},
   "outputs": [
    {
     "data": {
      "text/plain": [
       "dict_keys(['md_p', 'md_true', 'fold_index', 'dd', 'mm'])"
      ]
     },
     "execution_count": 4,
     "metadata": {},
     "output_type": "execute_result"
    }
   ],
   "source": [
    "dataset.keys()"
   ]
  },
  {
   "cell_type": "code",
   "execution_count": 20,
   "metadata": {},
   "outputs": [
    {
     "name": "stdout",
     "output_type": "stream",
     "text": [
      "4691556\n",
      "torch.Size([2166, 2166])\n",
      "torch.Size([2, 4670244])\n",
      "1087849\n",
      "torch.Size([1043, 1043])\n",
      "torch.Size([2, 948255])\n"
     ]
    }
   ],
   "source": [
    "print(2166*2166)\n",
    "print(dataset['dd']['data'].shape)\n",
    "print(dataset['dd']['edge_index'].shape)\n",
    "\n",
    "print(1043*1043)\n",
    "print(dataset['mm']['data'].shape)\n",
    "print(dataset['mm']['edge_index'].shape)"
   ]
  },
  {
   "cell_type": "code",
   "execution_count": 23,
   "metadata": {},
   "outputs": [
    {
     "data": {
      "text/plain": [
       "(10, 143, 2)"
      ]
     },
     "execution_count": 23,
     "metadata": {},
     "output_type": "execute_result"
    }
   ],
   "source": [
    "dataset['fold_index'].shape"
   ]
  },
  {
   "attachments": {},
   "cell_type": "markdown",
   "metadata": {},
   "source": [
    "### 数据上符合实验要求"
   ]
  },
  {
   "cell_type": "markdown",
   "metadata": {},
   "source": []
  }
 ],
 "metadata": {
  "kernelspec": {
   "display_name": "torch18",
   "language": "python",
   "name": "python3"
  },
  "language_info": {
   "codemirror_mode": {
    "name": "ipython",
    "version": 3
   },
   "file_extension": ".py",
   "mimetype": "text/x-python",
   "name": "python",
   "nbconvert_exporter": "python",
   "pygments_lexer": "ipython3",
   "version": "3.8.10"
  },
  "orig_nbformat": 4
 },
 "nbformat": 4,
 "nbformat_minor": 2
}
