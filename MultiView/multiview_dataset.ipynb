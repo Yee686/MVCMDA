{
 "cells": [
  {
   "cell_type": "code",
   "execution_count": 4,
   "metadata": {},
   "outputs": [],
   "source": [
    "import torch\n",
    "import numpy as np\n",
    "import pandas as pd"
   ]
  },
  {
   "cell_type": "code",
   "execution_count": 2,
   "metadata": {},
   "outputs": [],
   "source": [
    "old_dataset = torch.load('/mnt/yzy/NIMCGCN/new_dataset.pt')"
   ]
  },
  {
   "cell_type": "code",
   "execution_count": 3,
   "metadata": {},
   "outputs": [
    {
     "name": "stdout",
     "output_type": "stream",
     "text": [
      "torch.Size([2, 948255])\n"
     ]
    },
    {
     "data": {
      "text/plain": [
       "tensor([[   0,    0,    0,  ..., 1042, 1042, 1042],\n",
       "        [   0,    1,    2,  ..., 1040, 1041, 1042]])"
      ]
     },
     "execution_count": 3,
     "metadata": {},
     "output_type": "execute_result"
    }
   ],
   "source": [
    "def get_edge(matrix):\n",
    "    edge_x = []\n",
    "    edge_y = []\n",
    "    for i in range(0,matrix.shape[0]):\n",
    "        for j in range(0,matrix.shape[1]):\n",
    "            if(matrix[i][j] != 0):\n",
    "                edge_x.append(i)\n",
    "                edge_y.append(j)\n",
    "    \n",
    "    edge = torch.tensor([edge_x,edge_y])\n",
    "    print(edge.shape)\n",
    "    return edge\n",
    "get_edge(old_dataset['mm']['data'])"
   ]
  },
  {
   "cell_type": "code",
   "execution_count": 4,
   "metadata": {},
   "outputs": [
    {
     "name": "stdout",
     "output_type": "stream",
     "text": [
      "torch.Size([2, 948255])\n"
     ]
    }
   ],
   "source": [
    "print(old_dataset['mm']['edge_index'].shape)"
   ]
  },
  {
   "cell_type": "code",
   "execution_count": 5,
   "metadata": {},
   "outputs": [
    {
     "name": "stdout",
     "output_type": "stream",
     "text": [
      "dict_keys(['md_p', 'md_true', 'mm', 'dd', 'fold_one_index', 'fold_zero_index'])\n",
      "torch.Size([1043, 2166])\n",
      "torch.Size([1043, 2166])\n",
      "torch.Size([1043, 1043])\n",
      "torch.Size([2, 948255])\n",
      "torch.Size([2166, 2166])\n",
      "torch.Size([2, 4670244])\n",
      "torch.Size([10, 2, 143])\n",
      "torch.Size([10, 2, 225771])\n",
      "1087849 4691556\n"
     ]
    }
   ],
   "source": [
    "old_dataset = torch.load(\"/mnt/yzy/NIMCGCN/new_dataset.pt\")\n",
    "print(old_dataset.keys())\n",
    "print(old_dataset['md_p'].shape)\n",
    "print(old_dataset['md_true'].shape)\n",
    "print(old_dataset['mm']['data'].shape)\n",
    "print(old_dataset['mm']['edge_index'].shape)\n",
    "print(old_dataset['dd']['data'].shape)\n",
    "print(old_dataset['dd']['edge_index'].shape)\n",
    "print(old_dataset['fold_one_index'].shape)\n",
    "print(old_dataset['fold_zero_index'].shape)\n",
    "print(1043*1043,2166*2166)"
   ]
  },
  {
   "cell_type": "code",
   "execution_count": 6,
   "metadata": {},
   "outputs": [
    {
     "name": "stdout",
     "output_type": "stream",
     "text": [
      "(2166, 2166)\n",
      "(1043, 1043)\n"
     ]
    }
   ],
   "source": [
    "drug_mol2vec_sim = np.loadtxt(\"/mnt/yzy/NIMCGCN/MultiView/drug_mol2vec_sim.csv\",delimiter=',')\n",
    "rna_seq_sim = np.loadtxt(\"/mnt/yzy/NIMCGCN/MultiView/rna_seq_sim.csv\",delimiter=',')\n",
    "\n",
    "print(drug_mol2vec_sim.shape)\n",
    "print(rna_seq_sim.shape)"
   ]
  },
  {
   "cell_type": "code",
   "execution_count": 7,
   "metadata": {},
   "outputs": [
    {
     "name": "stdout",
     "output_type": "stream",
     "text": [
      "torch.Size([2, 4691554])\n",
      "torch.Size([2, 4691554])\n",
      "tensor([   0,    0,    0,  ..., 2165, 2165, 2165])\n",
      "torch.Size([2166, 2166])\n",
      "tensor([0.5190, 0.4533, 0.4735,  ..., 0.3160, 0.4666, 0.6221],\n",
      "       dtype=torch.float64)\n",
      "torch.Size([2, 659344])\n",
      "torch.Size([2, 659344])\n",
      "tensor([   2,    2,    2,  ..., 1041, 1041, 1041])\n",
      "torch.Size([1043, 1043])\n",
      "tensor([0., 0., 0.,  ..., 0., 0., 0.], dtype=torch.float64)\n"
     ]
    }
   ],
   "source": [
    "drug_mol2vec_sim_edge = get_edge(drug_mol2vec_sim)\n",
    "drug_mol2vec_sim_data = torch.tensor(drug_mol2vec_sim)\n",
    "\n",
    "print(drug_mol2vec_sim_edge.shape)\n",
    "print(drug_mol2vec_sim_edge[0])\n",
    "print(drug_mol2vec_sim_data.shape)\n",
    "print(drug_mol2vec_sim_data[0])\n",
    "\n",
    "\n",
    "rna_seq_sim_edge = get_edge(rna_seq_sim)\n",
    "rna_seq_sim_data = torch.tensor(rna_seq_sim)\n",
    "\n",
    "print(rna_seq_sim_edge.shape)\n",
    "print(rna_seq_sim_edge[0])\n",
    "print(rna_seq_sim_data.shape)\n",
    "print(rna_seq_sim_data[0])"
   ]
  },
  {
   "cell_type": "code",
   "execution_count": 13,
   "metadata": {},
   "outputs": [],
   "source": [
    "multiview_dataset = {\n",
    "    'md':old_dataset['md_p'].double(),\n",
    "    'mm_func':{\n",
    "        'attr':old_dataset['mm']['data'].double(),\n",
    "        'edge':old_dataset['mm']['edge_index']\n",
    "    },\n",
    "    'mm_seq':{\n",
    "        'attr':rna_seq_sim_data.double(),\n",
    "        'edge':rna_seq_sim_edge\n",
    "    },\n",
    "    'dd_seq':{\n",
    "        'attr':old_dataset['dd']['data'].double(),\n",
    "        'edge':old_dataset['dd']['edge_index']\n",
    "    },\n",
    "    'dd_mol':{\n",
    "        'attr':drug_mol2vec_sim_data.double(),\n",
    "        'edge':drug_mol2vec_sim_edge\n",
    "    },\n",
    "    'fold_one_index':old_dataset['fold_one_index'],\n",
    "    'fold_zero_index':old_dataset['fold_zero_index']\n",
    "}\n",
    "\n",
    "torch.save(multiview_dataset,\"/mnt/yzy/NIMCGCN/MultiView/multiview_dataset.pt\")"
   ]
  },
  {
   "cell_type": "code",
   "execution_count": 2,
   "metadata": {},
   "outputs": [
    {
     "name": "stdout",
     "output_type": "stream",
     "text": [
      "md torch.Size([1043, 2166]) <class 'torch.Tensor'> torch.float64\n",
      "mm_func torch.Size([1043, 1043]) <class 'torch.Tensor'> torch.float64\n",
      "mm_func torch.Size([2, 948255]) <class 'torch.Tensor'> torch.int64\n",
      "mm_seq torch.Size([1043, 1043]) <class 'torch.Tensor'> torch.float64\n",
      "mm_seq torch.Size([2, 659344]) <class 'torch.Tensor'> torch.int64\n",
      "dd_seq torch.Size([2166, 2166]) <class 'torch.Tensor'> torch.float64\n",
      "dd_seq torch.Size([2, 4670244]) <class 'torch.Tensor'> torch.int64\n",
      "dd_mol torch.Size([2166, 2166]) <class 'torch.Tensor'> torch.float64\n",
      "dd_mol torch.Size([2, 4691554]) <class 'torch.Tensor'> torch.int64\n",
      "fold_one_index torch.Size([10, 2, 143]) <class 'torch.Tensor'> torch.int64\n",
      "fold_zero_index torch.Size([10, 2, 225771]) <class 'torch.Tensor'> torch.int64\n"
     ]
    }
   ],
   "source": [
    "dataset = torch.load(\"/mnt/yzy/NIMCGCN/MultiView/multiview_dataset.pt\")\n",
    "\n",
    "for i in dataset.keys():\n",
    "    if(i == 'md' or i == 'fold_one_index' or i == 'fold_zero_index'):\n",
    "        print(i,dataset[i].shape, type(dataset[i]),dataset[i].dtype)\n",
    "    else:\n",
    "        print(i,dataset[i]['attr'].shape,type(dataset[i]['attr']),dataset[i]['attr'].dtype)\n",
    "        print(i,dataset[i]['edge'].shape,type(dataset[i]['edge']),dataset[i]['edge'].dtype)"
   ]
  },
  {
   "cell_type": "code",
   "execution_count": 3,
   "metadata": {},
   "outputs": [],
   "source": [
    "multiview_dataset = {\n",
    "    'md':dataset['md'].float(),\n",
    "    'mm_func':{\n",
    "        'attr':dataset['mm_func']['attr'].float(),\n",
    "        'edge':dataset['mm_func']['edge']\n",
    "    },\n",
    "    'mm_seq':{\n",
    "        'attr':dataset['mm_seq']['attr'].float(),\n",
    "        'edge':dataset['mm_seq']['edge']\n",
    "    },\n",
    "    'dd_seq':{\n",
    "        'attr':dataset['dd_seq']['attr'].float(),\n",
    "        'edge':dataset['dd_seq']['edge']\n",
    "    },\n",
    "    'dd_mol':{\n",
    "        'attr':dataset['dd_mol']['attr'].float(),\n",
    "        'edge':dataset['dd_mol']['edge']\n",
    "    },\n",
    "    'fold_one_index':dataset['fold_one_index'],\n",
    "    'fold_zero_index':dataset['fold_zero_index']\n",
    "}"
   ]
  },
  {
   "cell_type": "code",
   "execution_count": 5,
   "metadata": {},
   "outputs": [
    {
     "name": "stdout",
     "output_type": "stream",
     "text": [
      "md torch.Size([1043, 2166]) <class 'torch.Tensor'> torch.float32\n",
      "mm_func torch.Size([1043, 1043]) <class 'torch.Tensor'> torch.float32\n",
      "mm_func torch.Size([2, 948255]) <class 'torch.Tensor'> torch.int64\n",
      "mm_seq torch.Size([1043, 1043]) <class 'torch.Tensor'> torch.float32\n",
      "mm_seq torch.Size([2, 659344]) <class 'torch.Tensor'> torch.int64\n",
      "dd_seq torch.Size([2166, 2166]) <class 'torch.Tensor'> torch.float32\n",
      "dd_seq torch.Size([2, 4670244]) <class 'torch.Tensor'> torch.int64\n",
      "dd_mol torch.Size([2166, 2166]) <class 'torch.Tensor'> torch.float32\n",
      "dd_mol torch.Size([2, 4691554]) <class 'torch.Tensor'> torch.int64\n",
      "fold_one_index torch.Size([10, 2, 143]) <class 'torch.Tensor'> torch.int64\n",
      "fold_zero_index torch.Size([10, 2, 225771]) <class 'torch.Tensor'> torch.int64\n"
     ]
    }
   ],
   "source": [
    "dataset = multiview_dataset\n",
    "for i in dataset.keys():\n",
    "    if(i == 'md' or i == 'fold_one_index' or i == 'fold_zero_index'):\n",
    "        print(i,dataset[i].shape, type(dataset[i]),dataset[i].dtype)\n",
    "    else:\n",
    "        print(i,dataset[i]['attr'].shape,type(dataset[i]['attr']),dataset[i]['attr'].dtype)\n",
    "        print(i,dataset[i]['edge'].shape,type(dataset[i]['edge']),dataset[i]['edge'].dtype)\n",
    "\n",
    "torch.save(multiview_dataset,\"/mnt/yzy/NIMCGCN/MultiView/multiview_dataset.pt\")"
   ]
  },
  {
   "cell_type": "code",
   "execution_count": 3,
   "metadata": {},
   "outputs": [
    {
     "data": {
      "text/plain": [
       "dict_keys(['md', 'mm_func', 'mm_seq', 'dd_seq', 'dd_mol', 'fold_one_index', 'fold_zero_index'])"
      ]
     },
     "execution_count": 3,
     "metadata": {},
     "output_type": "execute_result"
    }
   ],
   "source": [
    "dataset = torch.load(\"/mnt/yzy/NIMCGCN/MultiView/multiview_dataset.pt\")\n",
    "dataset.keys()"
   ]
  },
  {
   "cell_type": "code",
   "execution_count": 12,
   "metadata": {},
   "outputs": [
    {
     "data": {
      "text/plain": [
       "torch.Size([10, 2, 143])"
      ]
     },
     "execution_count": 12,
     "metadata": {},
     "output_type": "execute_result"
    }
   ],
   "source": [
    "dataset['fold_one_index'].shape"
   ]
  },
  {
   "cell_type": "code",
   "execution_count": 9,
   "metadata": {},
   "outputs": [
    {
     "data": {
      "text/plain": [
       "1502"
      ]
     },
     "execution_count": 9,
     "metadata": {},
     "output_type": "execute_result"
    }
   ],
   "source": [
    "new_md = pd.read_csv(\"/mnt/yzy/NIMCGCN/datasets/data(MDA108)/mirna_drug_1043_2166_1502.txt\",sep=',',header=0,index_col=0)\n",
    "new_md = new_md.values\n",
    "new_md.sum()"
   ]
  },
  {
   "cell_type": "code",
   "execution_count": 10,
   "metadata": {},
   "outputs": [
    {
     "data": {
      "text/plain": [
       "torch.Size([1043, 2166])"
      ]
     },
     "execution_count": 10,
     "metadata": {},
     "output_type": "execute_result"
    }
   ],
   "source": [
    "new_md_tensor = torch.tensor(new_md)\n",
    "new_md_tensor.shape"
   ]
  },
  {
   "cell_type": "code",
   "execution_count": 14,
   "metadata": {},
   "outputs": [],
   "source": [
    "new_one_index = [[],[]]\n",
    "new_zero_index = [[],[]]"
   ]
  },
  {
   "cell_type": "code",
   "execution_count": 15,
   "metadata": {},
   "outputs": [],
   "source": [
    "for i in range(new_md.shape[0]):\n",
    "    for j in range(new_md.shape[1]):\n",
    "        if(new_md[i][j] != 1):\n",
    "            new_one_index[0].append(i)\n",
    "            new_one_index[1].append(j)\n",
    "        else:\n",
    "            new_zero_index[0].append(i)\n",
    "            new_zero_index[1].append(j)"
   ]
  },
  {
   "cell_type": "code",
   "execution_count": 16,
   "metadata": {},
   "outputs": [
    {
     "name": "stdout",
     "output_type": "stream",
     "text": [
      "torch.Size([2, 2257636])\n",
      "torch.Size([2, 1502])\n"
     ]
    }
   ],
   "source": [
    "new_one_index = torch.tensor(new_one_index)\n",
    "new_zero_index = torch.tensor(new_zero_index)\n",
    "print(new_one_index.shape)\n",
    "print(new_zero_index.shape)"
   ]
  },
  {
   "cell_type": "code",
   "execution_count": 27,
   "metadata": {},
   "outputs": [
    {
     "ename": "RuntimeError",
     "evalue": "[enforce fail at CPUAllocator.cpp:68] . DefaultCPUAllocator: can't allocate memory: you tried to allocate 40775362467968 bytes. Error code 12 (Cannot allocate memory)",
     "output_type": "error",
     "traceback": [
      "\u001b[0;31m---------------------------------------------------------------------------\u001b[0m",
      "\u001b[0;31mRuntimeError\u001b[0m                              Traceback (most recent call last)",
      "\u001b[1;32m/mnt/yzy/NIMCGCN/MultiView/multiview_dataset.ipynb 单元格 19\u001b[0m in \u001b[0;36m<cell line: 3>\u001b[0;34m()\u001b[0m\n\u001b[1;32m      <a href='vscode-notebook-cell://ssh-remote%2Bbbdm.hzau.edu.cn/mnt/yzy/NIMCGCN/MultiView/multiview_dataset.ipynb#X24sdnNjb2RlLXJlbW90ZQ%3D%3D?line=0'>1</a>\u001b[0m \u001b[39m# 使用randperm函数生成一个长度为2257636的随机排列的索引序列\u001b[39;00m\n\u001b[1;32m      <a href='vscode-notebook-cell://ssh-remote%2Bbbdm.hzau.edu.cn/mnt/yzy/NIMCGCN/MultiView/multiview_dataset.ipynb#X24sdnNjb2RlLXJlbW90ZQ%3D%3D?line=1'>2</a>\u001b[0m idx \u001b[39m=\u001b[39m torch\u001b[39m.\u001b[39mrandperm(new_one_index\u001b[39m.\u001b[39msize(\u001b[39m1\u001b[39m))\n\u001b[0;32m----> <a href='vscode-notebook-cell://ssh-remote%2Bbbdm.hzau.edu.cn/mnt/yzy/NIMCGCN/MultiView/multiview_dataset.ipynb#X24sdnNjb2RlLXJlbW90ZQ%3D%3D?line=2'>3</a>\u001b[0m shuffled_one_data \u001b[39m=\u001b[39m new_one_index\u001b[39m.\u001b[39;49mindex_select(\u001b[39m0\u001b[39;49m, idx)\n\u001b[1;32m      <a href='vscode-notebook-cell://ssh-remote%2Bbbdm.hzau.edu.cn/mnt/yzy/NIMCGCN/MultiView/multiview_dataset.ipynb#X24sdnNjb2RlLXJlbW90ZQ%3D%3D?line=4'>5</a>\u001b[0m idx \u001b[39m=\u001b[39m torch\u001b[39m.\u001b[39mrandperm(new_zero_index\u001b[39m.\u001b[39msize(\u001b[39m1\u001b[39m))\n\u001b[1;32m      <a href='vscode-notebook-cell://ssh-remote%2Bbbdm.hzau.edu.cn/mnt/yzy/NIMCGCN/MultiView/multiview_dataset.ipynb#X24sdnNjb2RlLXJlbW90ZQ%3D%3D?line=5'>6</a>\u001b[0m shuffled_zero_data \u001b[39m=\u001b[39m new_zero_index\u001b[39m.\u001b[39mindex_select(\u001b[39m0\u001b[39m, idx)\n",
      "\u001b[0;31mRuntimeError\u001b[0m: [enforce fail at CPUAllocator.cpp:68] . DefaultCPUAllocator: can't allocate memory: you tried to allocate 40775362467968 bytes. Error code 12 (Cannot allocate memory)"
     ]
    }
   ],
   "source": [
    "# 使用randperm函数生成一个长度为2257636的随机排列的索引序列\n",
    "idx = torch.randperm(new_one_index.size(1))\n",
    "shuffled_one_data = new_one_index.index_select(0, idx)\n",
    "\n",
    "idx = torch.randperm(new_zero_index.size(1))\n",
    "shuffled_zero_data = new_zero_index.index_select(0, idx)"
   ]
  },
  {
   "cell_type": "code",
   "execution_count": 26,
   "metadata": {},
   "outputs": [
    {
     "name": "stdout",
     "output_type": "stream",
     "text": [
      "torch.Size([2, 5])\n",
      "tensor([[0, 1, 2, 3, 4],\n",
      "        [1, 2, 3, 4, 5]])\n",
      "tensor([3, 1, 0, 2, 4])\n",
      "tensor([[3, 1, 0, 2, 4],\n",
      "        [4, 2, 1, 3, 5]])\n"
     ]
    }
   ],
   "source": [
    "# 创建一个形状为[2, 2257636]的张量，表示(x, y)\n",
    "data = torch.tensor([[i, i+1] for i in range(5)]).T\n",
    "print(data.shape)\n",
    "print(data)\n",
    "# 使用randperm函数生成一个长度为2257636的随机排列的索引序列\n",
    "idx = torch.randperm(data.size(1))\n",
    "print(idx)\n",
    "shuffled_data = data.index_select(1, idx)\n",
    "# 使用gather函数按照生成的随机索引对张量的第二个维度进行重排列\n",
    "print(shuffled_data)"
   ]
  }
 ],
 "metadata": {
  "kernelspec": {
   "display_name": "torch18",
   "language": "python",
   "name": "python3"
  },
  "language_info": {
   "codemirror_mode": {
    "name": "ipython",
    "version": 3
   },
   "file_extension": ".py",
   "mimetype": "text/x-python",
   "name": "python",
   "nbconvert_exporter": "python",
   "pygments_lexer": "ipython3",
   "version": "3.8.13"
  },
  "orig_nbformat": 4
 },
 "nbformat": 4,
 "nbformat_minor": 2
}
